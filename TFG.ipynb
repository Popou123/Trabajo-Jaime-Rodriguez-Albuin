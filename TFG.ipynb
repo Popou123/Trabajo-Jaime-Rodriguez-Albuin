{
  "nbformat": 4,
  "nbformat_minor": 0,
  "metadata": {
    "colab": {
      "name": "TFG.ipynb",
      "provenance": [],
      "collapsed_sections": [],
      "authorship_tag": "ABX9TyMeP+MajpL5X25FwmNpH6jS",
      "include_colab_link": true
    },
    "kernelspec": {
      "name": "python3",
      "display_name": "Python 3"
    },
    "language_info": {
      "name": "python"
    }
  },
  "cells": [
    {
      "cell_type": "markdown",
      "metadata": {
        "id": "view-in-github",
        "colab_type": "text"
      },
      "source": [
        "<a href=\"https://colab.research.google.com/github/Popou123/Trabajo-Jaime-Rodriguez-Albuin/blob/main/TFG.ipynb\" target=\"_parent\"><img src=\"https://colab.research.google.com/assets/colab-badge.svg\" alt=\"Open In Colab\"/></a>"
      ]
    },
    {
      "cell_type": "code",
      "metadata": {
        "colab": {
          "base_uri": "https://localhost:8080/"
        },
        "id": "yT0YJa8GcEpt",
        "outputId": "56cc720d-e9ce-427d-fc95-9385e77fb8b6"
      },
      "source": [
        "from google.colab import drive\n",
        "drive.mount(\"/content/gdrive\")"
      ],
      "execution_count": null,
      "outputs": [
        {
          "output_type": "stream",
          "text": [
            "Mounted at /content/gdrive\n"
          ],
          "name": "stdout"
        }
      ]
    },
    {
      "cell_type": "code",
      "metadata": {
        "id": "F99xW8qzjnra"
      },
      "source": [
        "import pandas as pd\n",
        "metadatos = pd.read_csv('/content/gdrive/My Drive/Chest_xray_Corona_Metadata.csv')"
      ],
      "execution_count": null,
      "outputs": []
    },
    {
      "cell_type": "code",
      "metadata": {
        "colab": {
          "base_uri": "https://localhost:8080/",
          "height": 195
        },
        "id": "rkl8IdzAe9kp",
        "outputId": "035c3c4e-a661-404e-f60e-9c6fcf34d0fc"
      },
      "source": [
        "metadatos.head()"
      ],
      "execution_count": null,
      "outputs": [
        {
          "output_type": "execute_result",
          "data": {
            "text/html": [
              "<div>\n",
              "<style scoped>\n",
              "    .dataframe tbody tr th:only-of-type {\n",
              "        vertical-align: middle;\n",
              "    }\n",
              "\n",
              "    .dataframe tbody tr th {\n",
              "        vertical-align: top;\n",
              "    }\n",
              "\n",
              "    .dataframe thead th {\n",
              "        text-align: right;\n",
              "    }\n",
              "</style>\n",
              "<table border=\"1\" class=\"dataframe\">\n",
              "  <thead>\n",
              "    <tr style=\"text-align: right;\">\n",
              "      <th></th>\n",
              "      <th>Unnamed: 0</th>\n",
              "      <th>X_ray_image_name</th>\n",
              "      <th>Label</th>\n",
              "      <th>Dataset_type</th>\n",
              "      <th>Label_2_Virus_category</th>\n",
              "      <th>Label_1_Virus_category</th>\n",
              "    </tr>\n",
              "  </thead>\n",
              "  <tbody>\n",
              "    <tr>\n",
              "      <th>0</th>\n",
              "      <td>0</td>\n",
              "      <td>IM-0128-0001.jpeg</td>\n",
              "      <td>Normal</td>\n",
              "      <td>TRAIN</td>\n",
              "      <td>NaN</td>\n",
              "      <td>NaN</td>\n",
              "    </tr>\n",
              "    <tr>\n",
              "      <th>1</th>\n",
              "      <td>1</td>\n",
              "      <td>IM-0127-0001.jpeg</td>\n",
              "      <td>Normal</td>\n",
              "      <td>TRAIN</td>\n",
              "      <td>NaN</td>\n",
              "      <td>NaN</td>\n",
              "    </tr>\n",
              "    <tr>\n",
              "      <th>2</th>\n",
              "      <td>2</td>\n",
              "      <td>IM-0125-0001.jpeg</td>\n",
              "      <td>Normal</td>\n",
              "      <td>TRAIN</td>\n",
              "      <td>NaN</td>\n",
              "      <td>NaN</td>\n",
              "    </tr>\n",
              "    <tr>\n",
              "      <th>3</th>\n",
              "      <td>3</td>\n",
              "      <td>IM-0122-0001.jpeg</td>\n",
              "      <td>Normal</td>\n",
              "      <td>TRAIN</td>\n",
              "      <td>NaN</td>\n",
              "      <td>NaN</td>\n",
              "    </tr>\n",
              "    <tr>\n",
              "      <th>4</th>\n",
              "      <td>4</td>\n",
              "      <td>IM-0119-0001.jpeg</td>\n",
              "      <td>Normal</td>\n",
              "      <td>TRAIN</td>\n",
              "      <td>NaN</td>\n",
              "      <td>NaN</td>\n",
              "    </tr>\n",
              "  </tbody>\n",
              "</table>\n",
              "</div>"
            ],
            "text/plain": [
              "   Unnamed: 0   X_ray_image_name  ... Label_2_Virus_category Label_1_Virus_category\n",
              "0           0  IM-0128-0001.jpeg  ...                    NaN                    NaN\n",
              "1           1  IM-0127-0001.jpeg  ...                    NaN                    NaN\n",
              "2           2  IM-0125-0001.jpeg  ...                    NaN                    NaN\n",
              "3           3  IM-0122-0001.jpeg  ...                    NaN                    NaN\n",
              "4           4  IM-0119-0001.jpeg  ...                    NaN                    NaN\n",
              "\n",
              "[5 rows x 6 columns]"
            ]
          },
          "metadata": {
            "tags": []
          },
          "execution_count": 4
        }
      ]
    },
    {
      "cell_type": "code",
      "metadata": {
        "colab": {
          "base_uri": "https://localhost:8080/"
        },
        "id": "DrtAa2twfAQo",
        "outputId": "1c0560d0-34ec-41fa-8e02-283cc03a8755"
      },
      "source": [
        "metadatos.isnull().sum()"
      ],
      "execution_count": null,
      "outputs": [
        {
          "output_type": "execute_result",
          "data": {
            "text/plain": [
              "Unnamed: 0                   0\n",
              "X_ray_image_name             0\n",
              "Label                        0\n",
              "Dataset_type                 0\n",
              "Label_2_Virus_category    5841\n",
              "Label_1_Virus_category    1576\n",
              "dtype: int64"
            ]
          },
          "metadata": {
            "tags": []
          },
          "execution_count": 5
        }
      ]
    },
    {
      "cell_type": "code",
      "metadata": {
        "colab": {
          "base_uri": "https://localhost:8080/"
        },
        "id": "3h3PmV1SfJM_",
        "outputId": "9216cbd6-0485-448f-8459-7c05c30665ef"
      },
      "source": [
        "metadatos.info()"
      ],
      "execution_count": null,
      "outputs": [
        {
          "output_type": "stream",
          "text": [
            "<class 'pandas.core.frame.DataFrame'>\n",
            "RangeIndex: 5910 entries, 0 to 5909\n",
            "Data columns (total 6 columns):\n",
            " #   Column                  Non-Null Count  Dtype \n",
            "---  ------                  --------------  ----- \n",
            " 0   Unnamed: 0              5910 non-null   int64 \n",
            " 1   X_ray_image_name        5910 non-null   object\n",
            " 2   Label                   5910 non-null   object\n",
            " 3   Dataset_type            5910 non-null   object\n",
            " 4   Label_2_Virus_category  69 non-null     object\n",
            " 5   Label_1_Virus_category  4334 non-null   object\n",
            "dtypes: int64(1), object(5)\n",
            "memory usage: 277.2+ KB\n"
          ],
          "name": "stdout"
        }
      ]
    },
    {
      "cell_type": "code",
      "metadata": {
        "id": "QciMoDa8fPVv"
      },
      "source": [
        "metadatos.fillna('desconocido',inplace=True)"
      ],
      "execution_count": null,
      "outputs": []
    },
    {
      "cell_type": "code",
      "metadata": {
        "colab": {
          "base_uri": "https://localhost:8080/"
        },
        "id": "73VLfHN-wVPr",
        "outputId": "4433b455-31ae-4f20-be31-331b42d40ec7"
      },
      "source": [
        "metadatos.isnull().sum()"
      ],
      "execution_count": null,
      "outputs": [
        {
          "output_type": "execute_result",
          "data": {
            "text/plain": [
              "Unnamed: 0                0\n",
              "X_ray_image_name          0\n",
              "Label                     0\n",
              "Dataset_type              0\n",
              "Label_2_Virus_category    0\n",
              "Label_1_Virus_category    0\n",
              "dtype: int64"
            ]
          },
          "metadata": {
            "tags": []
          },
          "execution_count": 8
        }
      ]
    },
    {
      "cell_type": "code",
      "metadata": {
        "colab": {
          "base_uri": "https://localhost:8080/"
        },
        "id": "W3v_5jPjwbxn",
        "outputId": "7a672d7e-6f62-4234-b3b7-b6195e64d075"
      },
      "source": [
        "print(metadatos[\"Label_1_Virus_category\"].value_counts())\n",
        "print(\"-\"*50)\n",
        "print(metadatos[\"Label_2_Virus_category\"].value_counts())"
      ],
      "execution_count": null,
      "outputs": [
        {
          "output_type": "stream",
          "text": [
            "bacteria          2777\n",
            "desconocido       1576\n",
            "Virus             1555\n",
            "Stress-Smoking       2\n",
            "Name: Label_1_Virus_category, dtype: int64\n",
            "--------------------------------------------------\n",
            "desconocido      5841\n",
            "COVID-19           58\n",
            "Streptococcus       5\n",
            "SARS                4\n",
            "ARDS                2\n",
            "Name: Label_2_Virus_category, dtype: int64\n"
          ],
          "name": "stdout"
        }
      ]
    },
    {
      "cell_type": "code",
      "metadata": {
        "id": "Lzg5-EOGwyxR"
      },
      "source": [
        "normales = metadatos[metadatos.Label=='Normal']\n",
        "nombres_normales = normales['X_ray_image_name']\n",
        "enfermos = metadatos[metadatos.Label=='Pnemonia']\n",
        "nombres_enfermos = enfermos['X_ray_image_name']"
      ],
      "execution_count": null,
      "outputs": []
    },
    {
      "cell_type": "code",
      "metadata": {
        "colab": {
          "base_uri": "https://localhost:8080/"
        },
        "id": "zdDkW_maKNnk",
        "outputId": "7b05f385-beca-4a2c-ef9d-61f4b6904d7c"
      },
      "source": [
        "print(\"Número de radiografías de personas sanas: \" + str(len(normales)))\n",
        "print(\"Número de radiografías de personas enferma: \" + str(len(enfermos)))"
      ],
      "execution_count": null,
      "outputs": [
        {
          "output_type": "stream",
          "text": [
            "Número de radiografías de personas sanas: 1576\n",
            "Número de radiografías de personas enferma: 4334\n"
          ],
          "name": "stdout"
        }
      ]
    },
    {
      "cell_type": "code",
      "metadata": {
        "id": "vH440Sf_EXgt",
        "colab": {
          "base_uri": "https://localhost:8080/"
        },
        "outputId": "cbe8e096-7065-480f-81ee-bf3403e2f392"
      },
      "source": [
        "print(nombres_enfermos.head())\n",
        "#print(\"Normales: \" + str(len(normales)))\n",
        "#print(\"Enfermos: \" + str(len(enfermos)))"
      ],
      "execution_count": null,
      "outputs": [
        {
          "output_type": "stream",
          "text": [
            "1341         person101_virus_188.jpeg\n",
            "1342         person101_virus_187.jpeg\n",
            "1343       person1019_virus_1708.jpeg\n",
            "1344       person1019_virus_1707.jpeg\n",
            "1345    person1019_bacteria_2950.jpeg\n",
            "Name: X_ray_image_name, dtype: object\n"
          ],
          "name": "stdout"
        }
      ]
    },
    {
      "cell_type": "code",
      "metadata": {
        "id": "2nRaQpl8GPE4"
      },
      "source": [
        "import os\n",
        "import shutil"
      ],
      "execution_count": null,
      "outputs": []
    },
    {
      "cell_type": "code",
      "metadata": {
        "id": "ir2SjFb1JwVC"
      },
      "source": [
        "directorio_train_og = '/content/gdrive/My Drive/Coronahack-Chest-XRay-Dataset/Coronahack-Chest-XRay-Dataset/train_og'\n",
        "directorio_test_og = '/content/gdrive/My Drive/Coronahack-Chest-XRay-Dataset/Coronahack-Chest-XRay-Dataset/test_og'\n",
        "normal = '/content/gdrive/My Drive/Coronahack-Chest-XRay-Dataset/Coronahack-Chest-XRay-Dataset/normal'\n",
        "pneumonia = '/content/gdrive/My Drive/Coronahack-Chest-XRay-Dataset/Coronahack-Chest-XRay-Dataset/pneumonia'"
      ],
      "execution_count": null,
      "outputs": []
    },
    {
      "cell_type": "code",
      "metadata": {
        "id": "ajpLjWawJylY"
      },
      "source": [
        "os.mkdir(normal)\n",
        "os.mkdir(pneumonia)"
      ],
      "execution_count": null,
      "outputs": []
    },
    {
      "cell_type": "code",
      "metadata": {
        "id": "4s9PDVt01Qo7"
      },
      "source": [
        "#Nos situamos en el directorio de entrenamiento del dataset mediante \"os.chdir\" para copiar las imágenes a las carpetas correspondientes,\n",
        "#agrupándolas para poder manipularlas mejor.\n",
        "os.chdir(directorio_train_og)\n",
        "#Para cada nombre de las imágenes que se encuentran en el directorio de entrenamiento:\n",
        "for n in nombres_normales:\n",
        "  #Guardamos el nombre como una cadena. Recordemos que el módulo \"os\" y el módulo \"shutil\" trabajan con rutas.\n",
        "  n_string = str(n)\n",
        "  #Si existe dicha ruta, o de otra manera, dicho archivo (imagen.jpeg) en la carpeta de entrenamiento:\n",
        "  if os.path.exists(n_string):\n",
        "    #Montamos las rutas de origen, la cual será la ruta del directorio mas una barra y el nombre de la imagen, y la ruta de destino, la cual\n",
        "    #indica dónde y qué vamos a copiar.\n",
        "    origen = directorio_train_og + \"/\" + n_string\n",
        "    destino =  normal + \"/\" + n_string\n",
        "    shutil.copyfile(origen,destino)\n",
        "\n",
        "#El mismo procedimiento que el anterior, esta vez buscando las radiografías de enfermos en la carpeta de entrenamiento.\n",
        "for n in nombres_enfermos:\n",
        "  n_string = str(n)\n",
        "  if os.path.exists(n_string):\n",
        "    origen = directorio_train_og + \"/\" + n_string\n",
        "    destino = pneumonia + \"/\" + n_string\n",
        "    shutil.copyfile(origen,destino)\n",
        "\n",
        "#Nos situamos en la carpeta de test para repetir el mismo proceso que en la carpeta de entrenamiento.\n",
        "os.chdir(directorio_test_og)\n",
        "for n in nombres_normales:\n",
        "  n_string = str(n)\n",
        "  if os.path.exists(n_string):\n",
        "    origen = directorio_test_og + \"/\" + n_string\n",
        "    destino = normal + \"/\" + n_string\n",
        "    shutil.copyfile(origen,destino)\n",
        "\n",
        "\n",
        "for n in nombres_enfermos:\n",
        "  n_string = str(n)\n",
        "  if os.path.exists(n_string):\n",
        "    origen = directorio_test_og + \"/\" + n_string\n",
        "    destino = pneumonia + \"/\"  + n_string\n",
        "    shutil.copyfile(origen,destino)"
      ],
      "execution_count": null,
      "outputs": []
    },
    {
      "cell_type": "code",
      "metadata": {
        "id": "-_CbprCNzmyF"
      },
      "source": [
        "#Comprobamos que se han copiado correctamente las imágenes. Hay ciertas entradas en el .csv que no existen o simplemente eran filas que guardaban otra información.\n",
        "print(\"Cantidad de imágenes de entrenamiento: \" + str(len(os.listdir(normal))))\n",
        "print(\"Cantidad de imágenes de test: \" + str(len(os.listdir(pneumonia))))\n",
        "\n",
        "sum1 = len(os.listdir(normal)) + len(os.listdir(pneumonia))\n",
        "sum2 = len(os.listdir(directorio_train_og)) + len(os.listdir(directorio_test_og))\n",
        "print(sum1)\n",
        "print(sum2)"
      ],
      "execution_count": null,
      "outputs": []
    },
    {
      "cell_type": "code",
      "metadata": {
        "id": "5VqyazMxTHBw"
      },
      "source": [
        "#Creamos la carpeta donde inicializaremos los generadores de imágenes de keras.\n",
        "prep_red = '/content/gdrive/My Drive/Coronahack-Chest-XRay-Dataset/Coronahack-Chest-XRay-Dataset/prep'"
      ],
      "execution_count": null,
      "outputs": []
    },
    {
      "cell_type": "code",
      "metadata": {
        "id": "bZYDxmuWCwVE"
      },
      "source": [
        "os.mkdir(prep_red)"
      ],
      "execution_count": null,
      "outputs": []
    },
    {
      "cell_type": "code",
      "metadata": {
        "id": "rhEwSFxES3mM"
      },
      "source": [
        "#Muevo las carpetas de radiografías de gente sana y de gente enferma a otra carpeta, donde dividiremos mediante un generador las muestras de entrenamiento, \n",
        "#,test y validación. \n",
        "\n",
        "shutil.move(normal,prep_red)\n",
        "shutil.move(pneumonia,prep_red)"
      ],
      "execution_count": null,
      "outputs": []
    },
    {
      "cell_type": "code",
      "metadata": {
        "colab": {
          "base_uri": "https://localhost:8080/"
        },
        "id": "qpFENPr42YNc",
        "outputId": "b250eb35-795b-4ab2-c8b7-b92f2dad8987"
      },
      "source": [
        "#Comprobamos que se han movido correctamente:\n",
        "normal2 = prep_red + \"/normal\"\n",
        "pneumonia2 = prep_red + \"/pneumonia\"\n",
        "\n",
        "print(\"Cantidad de imágenes de personas sanas: \" + str(len(os.listdir(normal2))))\n",
        "print(\"Cantidad de imágenes de personas enfermas: \" + str(len(os.listdir(pneumonia2))))\n",
        "\n",
        "sum1 = len(os.listdir(normal2)) + len(os.listdir(pneumonia2))\n",
        "sum2 = len(os.listdir(directorio_train_og)) + len(os.listdir(directorio_test_og))\n",
        "print(sum1)\n",
        "print(sum2)"
      ],
      "execution_count": null,
      "outputs": [
        {
          "output_type": "stream",
          "text": [
            "Cantidad de imágenes de personas sanas: 1576\n",
            "Cantidad de imágenes de personas enfermas: 4334\n",
            "5910\n",
            "5933\n"
          ],
          "name": "stdout"
        }
      ]
    },
    {
      "cell_type": "code",
      "metadata": {
        "id": "I76wElCo1T4u"
      },
      "source": [
        "directorio_train = prep_red + \"/train\"\n",
        "directorio_test = prep_red + \"/test\"\n",
        "directorio_validation = prep_red + \"/validation\"\n",
        "\n",
        "normal_train = directorio_train + \"/normal\"\n",
        "normal_test = directorio_test + \"/normal\"\n",
        "normal_validation = directorio_validation + \"/normal\"\n",
        "\n",
        "pneumonia_train = directorio_train + \"/pneumonia\"\n",
        "pneumonia_test = directorio_test + \"/pneumonia\"\n",
        "pneumonia_validation = directorio_validation + \"/pneumonia\""
      ],
      "execution_count": null,
      "outputs": []
    },
    {
      "cell_type": "code",
      "metadata": {
        "id": "y1U_VgfU1UIQ"
      },
      "source": [
        "os.mkdir(directorio_train)\n",
        "os.mkdir(directorio_test)\n",
        "os.mkdir(directorio_validation)\n"
      ],
      "execution_count": null,
      "outputs": []
    },
    {
      "cell_type": "code",
      "metadata": {
        "id": "GWxNzqYlXPot"
      },
      "source": [
        "os.mkdir(normal_train)\n",
        "os.mkdir(normal_test)\n",
        "os.mkdir(normal_validation)\n",
        "os.mkdir(pneumonia_train)\n",
        "os.mkdir(pneumonia_test)\n",
        "os.mkdir(pneumonia_validation)"
      ],
      "execution_count": null,
      "outputs": []
    },
    {
      "cell_type": "code",
      "metadata": {
        "id": "ap7fFNwfQF1Z"
      },
      "source": [
        "os.mkdir(normal_validation)\n",
        "os.mkdir(pneumonia_validation)"
      ],
      "execution_count": null,
      "outputs": []
    },
    {
      "cell_type": "code",
      "metadata": {
        "id": "zY_S4FfxBtgM"
      },
      "source": [
        "os.mkdir(directorio_validation)\n",
        "os.mkdir(pneumonia_validation)\n",
        "os.mkdir(normal_validation)"
      ],
      "execution_count": null,
      "outputs": []
    },
    {
      "cell_type": "code",
      "metadata": {
        "id": "lHnKBDlsKZPs"
      },
      "source": [
        "def divide_dataset(directorio, p, q):\n",
        "  #Salvamos la dirección de la carpeta de radiografías de personas sanas para su posterior acceso.\n",
        "  directorio_normal = directorio + \"/normal\"\n",
        "  #Accedemos al directorio donde se encuentran todas las imágenes de personas sanas que existen en nuestro dataset.\n",
        "  normales = os.listdir(directorio_normal)\n",
        "  #Estas 3 variables nos servirán para decidir si una imagen se copiará a la carpeta de entrenamiento, a la de validación o a la de pruebas.\n",
        "  #En \"i\" guardaremos el resultado de multiplicar el número total de imágenes de personas sanas del dataset por el porcentaje de muestras que queremos que\n",
        "  #se situen entre entrenamiento y validación. Lo convertiremos a entero ya que querremos obtener un número entero de imágenes.\n",
        "  i = int(len(normales)*p)\n",
        "  #En \"k\" realizaremos la multiplicación entre \"i\" y \"q\", siendo q el porcentaje de muestras de validación que salvaremos, contando con que el resto lo usaremos\n",
        "  #para entrenamiento. También lo convertiremos a entero por las mismas razones. \n",
        "  k = int(i*q)\n",
        "  #En \"e\" guardaremos el resto de imágenes normales guardaremos en entrenamiento, siendo estas parte del número de muestras que acoge \"i\" (número total de imágenes\n",
        "  #entre entrenamiento y validación). \n",
        "  \n",
        "  #Ejemplo: En caso de tener 10 muestras, si queremos guardar el 80% para entrenamiento y validación nos quedarían 8. Si de esas 8 quisiéramos un cuarto para validación\n",
        "  #tendríamos que multiplicar ese 8 por 0.25, de manera que nos quedarían 2 muestras para validación. Por ello, el número de muestras para entrenamiento\n",
        "  #debería ser el número total entre entrenamiento y validación menos el número de muestras para validación: 8-2 = 6 imágenes de entrenamiento. \n",
        "\n",
        "  e = i-k\n",
        "  #Inicializaremos los contadores que servirán para decidir en qué directorio copiaremos las imágenes para separarlas en entrenamiento, validación y pruebas.\n",
        "  x = 0\n",
        "  v = 0\n",
        "  for n in normales:\n",
        "    if x<=e:\n",
        "      #Si x es menor que el número de imágenes correspondientes a entrenamiento:\n",
        "\n",
        "      #Guardamos el nombre como una cadena. Recordemos que el módulo \"os\" y el módulo \"shutil\" trabajan con rutas.\n",
        "      n_string = str(n)\n",
        "      #Montamos las rutas de origen, la cual será la ruta del directorio mas una barra y el nombre de la imagen, y la ruta de destino, la cual\n",
        "      #indica dónde y qué vamos a copiar.\n",
        "      origen = directorio_normal + \"/\" + n_string\n",
        "      destino =  directorio + \"/train/normal/\" + n_string\n",
        "      shutil.copyfile(origen,destino)\n",
        "      x += 1\n",
        "    elif x>e and v<=k:\n",
        "      #Si x es mayor que el número de muestras de entrenamiento, pero es menor que el número de muestras de validación:\n",
        "\n",
        "      n_string = str(n)\n",
        "      origen = directorio_normal + \"/\" + n_string\n",
        "      destino =  directorio + \"/validation/normal/\" + n_string\n",
        "      shutil.copyfile(origen,destino)\n",
        "      v +=1\n",
        "    else:\n",
        "      #En cualquier otro caso la guardaremos en test.\n",
        "      n_string = str(n)\n",
        "      origen = directorio_normal + \"/\" + n_string\n",
        "      destino =  directorio + \"/test/normal/\" + n_string\n",
        "      shutil.copyfile(origen,destino)\n",
        "      \n",
        "  #Repetimos el mismo proceso anterior pero esta vez para las radiografías de pacientes enfermos.\n",
        "  \n",
        "  directorio_pneumonia = directorio + \"/pneumonia\"\n",
        "  enfermos = os.listdir(directorio_pneumonia)\n",
        "  j = int(len(enfermos)*p)\n",
        "  l = int(j*q)\n",
        "  w = j-l\n",
        "  z = 0\n",
        "  y = 0\n",
        "  \n",
        "  for n in enfermos:\n",
        "    if y<=w: \n",
        "      #Guardamos el nombre como una cadena. Recordemos que el módulo \"os\" y el módulo \"shutil\" trabajan con rutas.\n",
        "      n_string = str(n)\n",
        "      #Montamos las rutas de origen, la cual será la ruta del directorio mas una barra y el nombre de la imagen, y la ruta de destino, la cual\n",
        "      #indica dónde y qué vamos a copiar.\n",
        "      origen = directorio_pneumonia + \"/\" + n_string\n",
        "      destino =  directorio + \"/train/pneumonia/\" + n_string\n",
        "      shutil.copyfile(origen,destino)\n",
        "      y += 1\n",
        "    elif y>w and z<=l:\n",
        "      n_string = str(n)\n",
        "      #Montamos las rutas de origen, la cual será la ruta del directorio mas una barra y el nombre de la imagen, y la ruta de destino, la cual\n",
        "      #indica dónde y qué vamos a copiar.\n",
        "      origen = directorio_pneumonia + \"/\" + n_string\n",
        "      destino =  directorio + \"/validation/pneumonia/\" + n_string\n",
        "      shutil.copyfile(origen,destino)\n",
        "      z +=1\n",
        "    else:\n",
        "      #Guardamos el nombre como una cadena. Recordemos que el módulo \"os\" y el módulo \"shutil\" trabajan con rutas.\n",
        "      n_string = str(n)\n",
        "      #Montamos las rutas de origen, la cual será la ruta del directorio mas una barra y el nombre de la imagen, y la ruta de destino, la cual\n",
        "      #indica dónde y qué vamos a copiar.\n",
        "      origen = directorio_pneumonia + \"/\" + n_string\n",
        "      destino =  directorio + \"/test/pneumonia/\" + n_string\n",
        "      shutil.copyfile(origen,destino)"
      ],
      "execution_count": null,
      "outputs": []
    },
    {
      "cell_type": "code",
      "metadata": {
        "id": "u2gpCihzOcwD"
      },
      "source": [
        "divide_dataset(prep_red,0.8,0.2)"
      ],
      "execution_count": null,
      "outputs": []
    },
    {
      "cell_type": "code",
      "metadata": {
        "colab": {
          "base_uri": "https://localhost:8080/"
        },
        "id": "R3NVfxjscUvJ",
        "outputId": "6d910351-1be4-448c-b628-f85af978970b"
      },
      "source": [
        "n_normales_train = len(os.listdir(str(prep_red + \"/train/normal\")))\n",
        "n_enfermos_train = len(os.listdir(str(prep_red + \"/train/pneumonia\")))\n",
        "n_normales_test = len(os.listdir(str(prep_red + \"/test/normal\")))\n",
        "n_enfermos_test = len(os.listdir(str(prep_red + \"/test/pneumonia\")))\n",
        "n_normales_val = len(os.listdir(str(prep_red + \"/validation/normal\")))\n",
        "n_enfermos_val = len(os.listdir(str(prep_red + \"/validation/pneumonia\")))\n",
        "\n",
        "print(\"Cantidad de imágenes de imágenes de pulmones sanos en la carpeta de entrenamiento: \" + str(n_normales_train))\n",
        "print(\"Cantidad de imágenes de imágenes de pulmones enfermos en la carpeta de entrenamiento: \" + str(n_enfermos_train))\n",
        "print(\"Cantidad de imágenes de imágenes de pulmones sanos en la carpeta de validación: \" + str(n_normales_val))\n",
        "print(\"Cantidad de imágenes de imágenes de pulmones enfermos en la carpeta de validación: \" + str(n_enfermos_val))\n",
        "print(\"Cantidad de imágenes de imágenes de pulmones sanos en la carpeta de test: \" + str(n_normales_test))\n",
        "print(\"Cantidad de imágenes de imágenes de pulmones enfermos en la carpeta de test: \" + str(n_enfermos_test))\n",
        "\n",
        "print(\"Imagenes de pacientes: \" + str(n_normales_train + n_enfermos_train + n_normales_test + n_enfermos_test + n_normales_val + n_enfermos_val))"
      ],
      "execution_count": null,
      "outputs": [
        {
          "output_type": "stream",
          "text": [
            "Cantidad de imágenes de imágenes de pulmones sanos en la carpeta de entrenamiento: 1009\n",
            "Cantidad de imágenes de imágenes de pulmones enfermos en la carpeta de entrenamiento: 2775\n",
            "Cantidad de imágenes de imágenes de pulmones sanos en la carpeta de validación: 253\n",
            "Cantidad de imágenes de imágenes de pulmones enfermos en la carpeta de validación: 694\n",
            "Cantidad de imágenes de imágenes de pulmones sanos en la carpeta de test: 314\n",
            "Cantidad de imágenes de imágenes de pulmones enfermos en la carpeta de test: 865\n",
            "Imagenes de pacientes: 5910\n"
          ],
          "name": "stdout"
        }
      ]
    },
    {
      "cell_type": "code",
      "metadata": {
        "id": "7u9OxOYAQqne"
      },
      "source": [
        "from keras import layers\n",
        "from keras import models\n",
        "\n",
        "model = models.Sequential()\n",
        "\n",
        "model.add(layers.Conv2D(32, (3, 3), activation='relu', input_shape=(150, 150, 3)))\n",
        "model.add(layers.MaxPooling2D((2, 2)))\n",
        "model.add(layers.Conv2D(64, (3, 3), activation='relu'))\n",
        "model.add(layers.MaxPooling2D((2, 2)))\n",
        "model.add(layers.Conv2D(128, (3, 3), activation='relu'))\n",
        "model.add(layers.MaxPooling2D((2, 2)))\n",
        "model.add(layers.Conv2D(128, (3, 3), activation='relu'))\n",
        "model.add(layers.MaxPooling2D((2, 2)))\n",
        "\n",
        "model.add(layers.Flatten())\n",
        "model.add(layers.Dense(512, activation='relu'))\n",
        "model.add(layers.Dense(1, activation='sigmoid'))\n"
      ],
      "execution_count": null,
      "outputs": []
    },
    {
      "cell_type": "code",
      "metadata": {
        "id": "NF_Rcj116mVV"
      },
      "source": [
        "from keras import optimizers\n",
        "\n",
        "model.compile(loss='binary_crossentropy',\n",
        "              optimizer=optimizers.RMSprop(lr=1e-4),\n",
        "              metrics=['acc'])"
      ],
      "execution_count": null,
      "outputs": []
    },
    {
      "cell_type": "code",
      "metadata": {
        "id": "Q6g7it7l15yk",
        "colab": {
          "base_uri": "https://localhost:8080/"
        },
        "outputId": "1378a496-040b-451e-8c68-39cef1ea570c"
      },
      "source": [
        "from keras.preprocessing.image import ImageDataGenerator\n",
        "\n",
        "datagen_entrenamiento = ImageDataGenerator(rescale=1./255)\n",
        "datagen_validacion = ImageDataGenerator(rescale=1./255)\n",
        "datagen_test = ImageDataGenerator(rescale=1./255)\n",
        "\n",
        "generador_entrenamiento = datagen_entrenamiento.flow_from_directory(\n",
        "    directorio_train,\n",
        "    target_size=(150,150),\n",
        "    batch_size=20,\n",
        "    class_mode='binary'\n",
        ")\n",
        "\n",
        "generador_validacion = datagen_validacion.flow_from_directory(\n",
        "    directorio_validation,\n",
        "    target_size=(150,150),\n",
        "    batch_size=20,\n",
        "    class_mode='binary'\n",
        ")"
      ],
      "execution_count": null,
      "outputs": [
        {
          "output_type": "stream",
          "text": [
            "Found 3784 images belonging to 2 classes.\n",
            "Found 947 images belonging to 2 classes.\n"
          ],
          "name": "stdout"
        }
      ]
    },
    {
      "cell_type": "code",
      "metadata": {
        "colab": {
          "base_uri": "https://localhost:8080/"
        },
        "id": "Hy1bPJ7Hbwr2",
        "outputId": "952ce1a4-0328-40df-b315-b1d3f088cec0"
      },
      "source": [
        "historial = model.fit_generator(\n",
        "    generador_entrenamiento,\n",
        "    steps_per_epoch=100,\n",
        "    epochs=30,\n",
        "    validation_data=generador_validacion,\n",
        "    validation_steps=50\n",
        ")"
      ],
      "execution_count": null,
      "outputs": [
        {
          "output_type": "stream",
          "text": [
            "/usr/local/lib/python3.7/dist-packages/tensorflow/python/keras/engine/training.py:1844: UserWarning: `Model.fit_generator` is deprecated and will be removed in a future version. Please use `Model.fit`, which supports generators.\n",
            "  warnings.warn('`Model.fit_generator` is deprecated and '\n"
          ],
          "name": "stderr"
        },
        {
          "output_type": "stream",
          "text": [
            "Epoch 1/30\n",
            "100/100 [==============================] - ETA: 0s - loss: 0.5691 - acc: 0.7313WARNING:tensorflow:Your input ran out of data; interrupting training. Make sure that your dataset or generator can generate at least `steps_per_epoch * epochs` batches (in this case, 50 batches). You may need to use the repeat() function when building your dataset.\n",
            "100/100 [==============================] - 896s 9s/step - loss: 0.5682 - acc: 0.7318 - val_loss: 0.3077 - val_acc: 0.8691\n",
            "Epoch 2/30\n",
            "100/100 [==============================] - 310s 3s/step - loss: 0.2975 - acc: 0.8768\n",
            "Epoch 3/30\n",
            "100/100 [==============================] - 180s 2s/step - loss: 0.2238 - acc: 0.9060\n",
            "Epoch 4/30\n",
            "100/100 [==============================] - 126s 1s/step - loss: 0.1966 - acc: 0.9183\n",
            "Epoch 5/30\n",
            "100/100 [==============================] - 116s 1s/step - loss: 0.1951 - acc: 0.9246\n",
            "Epoch 6/30\n",
            "100/100 [==============================] - 109s 1s/step - loss: 0.1860 - acc: 0.9340\n",
            "Epoch 7/30\n",
            "100/100 [==============================] - 113s 1s/step - loss: 0.1829 - acc: 0.9236\n",
            "Epoch 8/30\n",
            "100/100 [==============================] - 107s 1s/step - loss: 0.1628 - acc: 0.9368\n",
            "Epoch 9/30\n",
            "100/100 [==============================] - 109s 1s/step - loss: 0.1487 - acc: 0.9462\n",
            "Epoch 10/30\n",
            "100/100 [==============================] - 109s 1s/step - loss: 0.1314 - acc: 0.9541\n",
            "Epoch 11/30\n",
            "100/100 [==============================] - 109s 1s/step - loss: 0.1331 - acc: 0.9450\n",
            "Epoch 12/30\n",
            "100/100 [==============================] - 107s 1s/step - loss: 0.1305 - acc: 0.9477\n",
            "Epoch 13/30\n",
            "100/100 [==============================] - 108s 1s/step - loss: 0.1437 - acc: 0.9516\n",
            "Epoch 14/30\n",
            "100/100 [==============================] - 116s 1s/step - loss: 0.1326 - acc: 0.9495\n",
            "Epoch 15/30\n",
            "100/100 [==============================] - 109s 1s/step - loss: 0.1218 - acc: 0.9555\n",
            "Epoch 16/30\n",
            "100/100 [==============================] - 109s 1s/step - loss: 0.1238 - acc: 0.9508\n",
            "Epoch 17/30\n",
            "100/100 [==============================] - 109s 1s/step - loss: 0.1015 - acc: 0.9665\n",
            "Epoch 18/30\n",
            "100/100 [==============================] - 108s 1s/step - loss: 0.1056 - acc: 0.9646\n",
            "Epoch 19/30\n",
            "100/100 [==============================] - 108s 1s/step - loss: 0.1176 - acc: 0.9536\n",
            "Epoch 20/30\n",
            "100/100 [==============================] - 109s 1s/step - loss: 0.0893 - acc: 0.9698\n",
            "Epoch 21/30\n",
            "100/100 [==============================] - 109s 1s/step - loss: 0.0960 - acc: 0.9589\n",
            "Epoch 22/30\n",
            "100/100 [==============================] - 107s 1s/step - loss: 0.0889 - acc: 0.9681\n",
            "Epoch 23/30\n",
            "100/100 [==============================] - 109s 1s/step - loss: 0.0879 - acc: 0.9698\n",
            "Epoch 24/30\n",
            "100/100 [==============================] - 108s 1s/step - loss: 0.0766 - acc: 0.9707\n",
            "Epoch 25/30\n",
            "100/100 [==============================] - 109s 1s/step - loss: 0.0947 - acc: 0.9580\n",
            "Epoch 26/30\n",
            "100/100 [==============================] - 108s 1s/step - loss: 0.0846 - acc: 0.9740\n",
            "Epoch 27/30\n",
            "100/100 [==============================] - 109s 1s/step - loss: 0.0765 - acc: 0.9714\n",
            "Epoch 28/30\n",
            "100/100 [==============================] - 110s 1s/step - loss: 0.0600 - acc: 0.9750\n",
            "Epoch 29/30\n",
            "100/100 [==============================] - 108s 1s/step - loss: 0.0634 - acc: 0.9737\n",
            "Epoch 30/30\n",
            "100/100 [==============================] - 107s 1s/step - loss: 0.0483 - acc: 0.9815\n"
          ],
          "name": "stdout"
        }
      ]
    },
    {
      "cell_type": "code",
      "metadata": {
        "id": "if2rTEbEcfvx"
      },
      "source": [
        " "
      ],
      "execution_count": null,
      "outputs": []
    }
  ]
}