{
  "nbformat": 4,
  "nbformat_minor": 0,
  "metadata": {
    "colab": {
      "name": "TFG.ipynb",
      "provenance": [],
      "collapsed_sections": [],
      "authorship_tag": "ABX9TyNMg7opIAbIs1DMGuS3QlkH",
      "include_colab_link": true
    },
    "kernelspec": {
      "display_name": "Python 3",
      "name": "python3"
    },
    "language_info": {
      "name": "python"
    }
  },
  "cells": [
    {
      "cell_type": "markdown",
      "metadata": {
        "id": "view-in-github",
        "colab_type": "text"
      },
      "source": [
        "<a href=\"https://colab.research.google.com/github/Popou123/Trabajo-Jaime-Rodriguez-Albuin/blob/main/TFG.ipynb\" target=\"_parent\"><img src=\"https://colab.research.google.com/assets/colab-badge.svg\" alt=\"Open In Colab\"/></a>"
      ]
    },
    {
      "cell_type": "code",
      "metadata": {
        "colab": {
          "base_uri": "https://localhost:8080/"
        },
        "id": "yT0YJa8GcEpt",
        "outputId": "4faec2a4-b1fb-4792-fa8f-b0fb02ef4258"
      },
      "source": [
        "#Montamos el volumen de google drive en colab, puesto que ahí reside el dataset.\n",
        "from google.colab import drive\n",
        "drive.mount(\"/content/gdrive\")"
      ],
      "execution_count": 2,
      "outputs": [
        {
          "output_type": "stream",
          "text": [
            "Mounted at /content/gdrive\n"
          ],
          "name": "stdout"
        }
      ]
    },
    {
      "cell_type": "code",
      "metadata": {
        "id": "F99xW8qzjnra"
      },
      "source": [
        "import pandas as pd\n",
        "metadatos = pd.read_csv('/content/gdrive/My Drive/Chest_xray_Corona_Metadata.csv')"
      ],
      "execution_count": null,
      "outputs": []
    },
    {
      "cell_type": "code",
      "metadata": {
        "colab": {
          "base_uri": "https://localhost:8080/",
          "height": 195
        },
        "id": "rkl8IdzAe9kp",
        "outputId": "035c3c4e-a661-404e-f60e-9c6fcf34d0fc"
      },
      "source": [
        "metadatos.head()"
      ],
      "execution_count": null,
      "outputs": [
        {
          "output_type": "execute_result",
          "data": {
            "text/html": [
              "<div>\n",
              "<style scoped>\n",
              "    .dataframe tbody tr th:only-of-type {\n",
              "        vertical-align: middle;\n",
              "    }\n",
              "\n",
              "    .dataframe tbody tr th {\n",
              "        vertical-align: top;\n",
              "    }\n",
              "\n",
              "    .dataframe thead th {\n",
              "        text-align: right;\n",
              "    }\n",
              "</style>\n",
              "<table border=\"1\" class=\"dataframe\">\n",
              "  <thead>\n",
              "    <tr style=\"text-align: right;\">\n",
              "      <th></th>\n",
              "      <th>Unnamed: 0</th>\n",
              "      <th>X_ray_image_name</th>\n",
              "      <th>Label</th>\n",
              "      <th>Dataset_type</th>\n",
              "      <th>Label_2_Virus_category</th>\n",
              "      <th>Label_1_Virus_category</th>\n",
              "    </tr>\n",
              "  </thead>\n",
              "  <tbody>\n",
              "    <tr>\n",
              "      <th>0</th>\n",
              "      <td>0</td>\n",
              "      <td>IM-0128-0001.jpeg</td>\n",
              "      <td>Normal</td>\n",
              "      <td>TRAIN</td>\n",
              "      <td>NaN</td>\n",
              "      <td>NaN</td>\n",
              "    </tr>\n",
              "    <tr>\n",
              "      <th>1</th>\n",
              "      <td>1</td>\n",
              "      <td>IM-0127-0001.jpeg</td>\n",
              "      <td>Normal</td>\n",
              "      <td>TRAIN</td>\n",
              "      <td>NaN</td>\n",
              "      <td>NaN</td>\n",
              "    </tr>\n",
              "    <tr>\n",
              "      <th>2</th>\n",
              "      <td>2</td>\n",
              "      <td>IM-0125-0001.jpeg</td>\n",
              "      <td>Normal</td>\n",
              "      <td>TRAIN</td>\n",
              "      <td>NaN</td>\n",
              "      <td>NaN</td>\n",
              "    </tr>\n",
              "    <tr>\n",
              "      <th>3</th>\n",
              "      <td>3</td>\n",
              "      <td>IM-0122-0001.jpeg</td>\n",
              "      <td>Normal</td>\n",
              "      <td>TRAIN</td>\n",
              "      <td>NaN</td>\n",
              "      <td>NaN</td>\n",
              "    </tr>\n",
              "    <tr>\n",
              "      <th>4</th>\n",
              "      <td>4</td>\n",
              "      <td>IM-0119-0001.jpeg</td>\n",
              "      <td>Normal</td>\n",
              "      <td>TRAIN</td>\n",
              "      <td>NaN</td>\n",
              "      <td>NaN</td>\n",
              "    </tr>\n",
              "  </tbody>\n",
              "</table>\n",
              "</div>"
            ],
            "text/plain": [
              "   Unnamed: 0   X_ray_image_name  ... Label_2_Virus_category Label_1_Virus_category\n",
              "0           0  IM-0128-0001.jpeg  ...                    NaN                    NaN\n",
              "1           1  IM-0127-0001.jpeg  ...                    NaN                    NaN\n",
              "2           2  IM-0125-0001.jpeg  ...                    NaN                    NaN\n",
              "3           3  IM-0122-0001.jpeg  ...                    NaN                    NaN\n",
              "4           4  IM-0119-0001.jpeg  ...                    NaN                    NaN\n",
              "\n",
              "[5 rows x 6 columns]"
            ]
          },
          "metadata": {
            "tags": []
          },
          "execution_count": 4
        }
      ]
    },
    {
      "cell_type": "code",
      "metadata": {
        "colab": {
          "base_uri": "https://localhost:8080/"
        },
        "id": "DrtAa2twfAQo",
        "outputId": "1c0560d0-34ec-41fa-8e02-283cc03a8755"
      },
      "source": [
        "metadatos.isnull().sum()"
      ],
      "execution_count": null,
      "outputs": [
        {
          "output_type": "execute_result",
          "data": {
            "text/plain": [
              "Unnamed: 0                   0\n",
              "X_ray_image_name             0\n",
              "Label                        0\n",
              "Dataset_type                 0\n",
              "Label_2_Virus_category    5841\n",
              "Label_1_Virus_category    1576\n",
              "dtype: int64"
            ]
          },
          "metadata": {
            "tags": []
          },
          "execution_count": 5
        }
      ]
    },
    {
      "cell_type": "code",
      "metadata": {
        "colab": {
          "base_uri": "https://localhost:8080/"
        },
        "id": "3h3PmV1SfJM_",
        "outputId": "9216cbd6-0485-448f-8459-7c05c30665ef"
      },
      "source": [
        "metadatos.info()"
      ],
      "execution_count": null,
      "outputs": [
        {
          "output_type": "stream",
          "text": [
            "<class 'pandas.core.frame.DataFrame'>\n",
            "RangeIndex: 5910 entries, 0 to 5909\n",
            "Data columns (total 6 columns):\n",
            " #   Column                  Non-Null Count  Dtype \n",
            "---  ------                  --------------  ----- \n",
            " 0   Unnamed: 0              5910 non-null   int64 \n",
            " 1   X_ray_image_name        5910 non-null   object\n",
            " 2   Label                   5910 non-null   object\n",
            " 3   Dataset_type            5910 non-null   object\n",
            " 4   Label_2_Virus_category  69 non-null     object\n",
            " 5   Label_1_Virus_category  4334 non-null   object\n",
            "dtypes: int64(1), object(5)\n",
            "memory usage: 277.2+ KB\n"
          ],
          "name": "stdout"
        }
      ]
    },
    {
      "cell_type": "code",
      "metadata": {
        "id": "QciMoDa8fPVv"
      },
      "source": [
        "metadatos.fillna('desconocido',inplace=True)"
      ],
      "execution_count": null,
      "outputs": []
    },
    {
      "cell_type": "code",
      "metadata": {
        "colab": {
          "base_uri": "https://localhost:8080/"
        },
        "id": "73VLfHN-wVPr",
        "outputId": "4433b455-31ae-4f20-be31-331b42d40ec7"
      },
      "source": [
        "metadatos.isnull().sum()"
      ],
      "execution_count": null,
      "outputs": [
        {
          "output_type": "execute_result",
          "data": {
            "text/plain": [
              "Unnamed: 0                0\n",
              "X_ray_image_name          0\n",
              "Label                     0\n",
              "Dataset_type              0\n",
              "Label_2_Virus_category    0\n",
              "Label_1_Virus_category    0\n",
              "dtype: int64"
            ]
          },
          "metadata": {
            "tags": []
          },
          "execution_count": 8
        }
      ]
    },
    {
      "cell_type": "code",
      "metadata": {
        "colab": {
          "base_uri": "https://localhost:8080/"
        },
        "id": "W3v_5jPjwbxn",
        "outputId": "7a672d7e-6f62-4234-b3b7-b6195e64d075"
      },
      "source": [
        "print(metadatos[\"Label_1_Virus_category\"].value_counts())\n",
        "print(\"-\"*50)\n",
        "print(metadatos[\"Label_2_Virus_category\"].value_counts())"
      ],
      "execution_count": null,
      "outputs": [
        {
          "output_type": "stream",
          "text": [
            "bacteria          2777\n",
            "desconocido       1576\n",
            "Virus             1555\n",
            "Stress-Smoking       2\n",
            "Name: Label_1_Virus_category, dtype: int64\n",
            "--------------------------------------------------\n",
            "desconocido      5841\n",
            "COVID-19           58\n",
            "Streptococcus       5\n",
            "SARS                4\n",
            "ARDS                2\n",
            "Name: Label_2_Virus_category, dtype: int64\n"
          ],
          "name": "stdout"
        }
      ]
    },
    {
      "cell_type": "code",
      "metadata": {
        "id": "Lzg5-EOGwyxR"
      },
      "source": [
        "normales = metadatos[metadatos.Label=='Normal']\n",
        "nombres_normales = normales['X_ray_image_name']\n",
        "enfermos = metadatos[metadatos.Label=='Pnemonia']\n",
        "nombres_enfermos = enfermos['X_ray_image_name']"
      ],
      "execution_count": null,
      "outputs": []
    },
    {
      "cell_type": "code",
      "metadata": {
        "colab": {
          "base_uri": "https://localhost:8080/"
        },
        "id": "zdDkW_maKNnk",
        "outputId": "7b05f385-beca-4a2c-ef9d-61f4b6904d7c"
      },
      "source": [
        "print(\"Número de radiografías de personas sanas: \" + str(len(normales)))\n",
        "print(\"Número de radiografías de personas enferma: \" + str(len(enfermos)))"
      ],
      "execution_count": null,
      "outputs": [
        {
          "output_type": "stream",
          "text": [
            "Número de radiografías de personas sanas: 1576\n",
            "Número de radiografías de personas enferma: 4334\n"
          ],
          "name": "stdout"
        }
      ]
    },
    {
      "cell_type": "code",
      "metadata": {
        "colab": {
          "base_uri": "https://localhost:8080/"
        },
        "id": "vH440Sf_EXgt",
        "outputId": "cbe8e096-7065-480f-81ee-bf3403e2f392"
      },
      "source": [
        "print(nombres_enfermos.head())\n",
        "#print(\"Normales: \" + str(len(normales)))\n",
        "#print(\"Enfermos: \" + str(len(enfermos)))"
      ],
      "execution_count": null,
      "outputs": [
        {
          "output_type": "stream",
          "text": [
            "1341         person101_virus_188.jpeg\n",
            "1342         person101_virus_187.jpeg\n",
            "1343       person1019_virus_1708.jpeg\n",
            "1344       person1019_virus_1707.jpeg\n",
            "1345    person1019_bacteria_2950.jpeg\n",
            "Name: X_ray_image_name, dtype: object\n"
          ],
          "name": "stdout"
        }
      ]
    },
    {
      "cell_type": "code",
      "metadata": {
        "id": "2nRaQpl8GPE4"
      },
      "source": [
        "import os\n",
        "import shutil"
      ],
      "execution_count": null,
      "outputs": []
    },
    {
      "cell_type": "code",
      "metadata": {
        "id": "ir2SjFb1JwVC"
      },
      "source": [
        "directorio_train_og = '/content/gdrive/My Drive/Coronahack-Chest-XRay-Dataset/Coronahack-Chest-XRay-Dataset/train_og'\n",
        "directorio_test_og = '/content/gdrive/My Drive/Coronahack-Chest-XRay-Dataset/Coronahack-Chest-XRay-Dataset/test_og'\n",
        "normal = '/content/gdrive/My Drive/Coronahack-Chest-XRay-Dataset/Coronahack-Chest-XRay-Dataset/normal'\n",
        "pneumonia = '/content/gdrive/My Drive/Coronahack-Chest-XRay-Dataset/Coronahack-Chest-XRay-Dataset/pneumonia'"
      ],
      "execution_count": null,
      "outputs": []
    },
    {
      "cell_type": "code",
      "metadata": {
        "id": "ajpLjWawJylY"
      },
      "source": [
        "os.mkdir(normal)\n",
        "os.mkdir(pneumonia)"
      ],
      "execution_count": null,
      "outputs": []
    },
    {
      "cell_type": "code",
      "metadata": {
        "id": "4s9PDVt01Qo7"
      },
      "source": [
        "#Nos situamos en el directorio de entrenamiento del dataset mediante \"os.chdir\" para copiar las imágenes a las carpetas correspondientes,\n",
        "#agrupándolas para poder manipularlas mejor.\n",
        "os.chdir(directorio_train_og)\n",
        "#Para cada nombre de las imágenes que se encuentran en el directorio de entrenamiento:\n",
        "for n in nombres_normales:\n",
        "  #Guardamos el nombre como una cadena. Recordemos que el módulo \"os\" y el módulo \"shutil\" trabajan con rutas.\n",
        "  n_string = str(n)\n",
        "  #Si existe dicha ruta, o de otra manera, dicho archivo (imagen.jpeg) en la carpeta de entrenamiento:\n",
        "  if os.path.exists(n_string):\n",
        "    #Montamos las rutas de origen, la cual será la ruta del directorio mas una barra y el nombre de la imagen, y la ruta de destino, la cual\n",
        "    #indica dónde y qué vamos a copiar.\n",
        "    origen = directorio_train_og + \"/\" + n_string\n",
        "    destino =  normal + \"/\" + n_string\n",
        "    shutil.copyfile(origen,destino)\n",
        "\n",
        "#El mismo procedimiento que el anterior, esta vez buscando las radiografías de enfermos en la carpeta de entrenamiento.\n",
        "for n in nombres_enfermos:\n",
        "  n_string = str(n)\n",
        "  if os.path.exists(n_string):\n",
        "    origen = directorio_train_og + \"/\" + n_string\n",
        "    destino = pneumonia + \"/\" + n_string\n",
        "    shutil.copyfile(origen,destino)\n",
        "\n",
        "#Nos situamos en la carpeta de test para repetir el mismo proceso que en la carpeta de entrenamiento.\n",
        "os.chdir(directorio_test_og)\n",
        "for n in nombres_normales:\n",
        "  n_string = str(n)\n",
        "  if os.path.exists(n_string):\n",
        "    origen = directorio_test_og + \"/\" + n_string\n",
        "    destino = normal + \"/\" + n_string\n",
        "    shutil.copyfile(origen,destino)\n",
        "\n",
        "\n",
        "for n in nombres_enfermos:\n",
        "  n_string = str(n)\n",
        "  if os.path.exists(n_string):\n",
        "    origen = directorio_test_og + \"/\" + n_string\n",
        "    destino = pneumonia + \"/\"  + n_string\n",
        "    shutil.copyfile(origen,destino)"
      ],
      "execution_count": null,
      "outputs": []
    },
    {
      "cell_type": "code",
      "metadata": {
        "id": "-_CbprCNzmyF"
      },
      "source": [
        "#Comprobamos que se han copiado correctamente las imágenes. Hay ciertas entradas en el .csv que no existen o simplemente eran filas que guardaban otra información.\n",
        "print(\"Cantidad de imágenes de entrenamiento: \" + str(len(os.listdir(normal))))\n",
        "print(\"Cantidad de imágenes de test: \" + str(len(os.listdir(pneumonia))))\n",
        "\n",
        "sum1 = len(os.listdir(normal)) + len(os.listdir(pneumonia))\n",
        "sum2 = len(os.listdir(directorio_train_og)) + len(os.listdir(directorio_test_og))\n",
        "print(sum1)\n",
        "print(sum2)"
      ],
      "execution_count": null,
      "outputs": []
    },
    {
      "cell_type": "code",
      "metadata": {
        "id": "5VqyazMxTHBw"
      },
      "source": [
        "#Creamos la carpeta donde inicializaremos los generadores de imágenes de keras.\n",
        "prep_red = '/content/gdrive/My Drive/Coronahack-Chest-XRay-Dataset/Coronahack-Chest-XRay-Dataset/prep'"
      ],
      "execution_count": null,
      "outputs": []
    },
    {
      "cell_type": "code",
      "metadata": {
        "id": "bZYDxmuWCwVE"
      },
      "source": [
        "os.mkdir(prep_red)"
      ],
      "execution_count": null,
      "outputs": []
    },
    {
      "cell_type": "code",
      "metadata": {
        "id": "rhEwSFxES3mM"
      },
      "source": [
        "#Muevo las carpetas de radiografías de gente sana y de gente enferma a otra carpeta, donde dividiremos mediante un generador las muestras de entrenamiento, \n",
        "#,test y validación. \n",
        "\n",
        "shutil.move(normal,prep_red)\n",
        "shutil.move(pneumonia,prep_red)"
      ],
      "execution_count": null,
      "outputs": []
    },
    {
      "cell_type": "code",
      "metadata": {
        "colab": {
          "base_uri": "https://localhost:8080/"
        },
        "id": "qpFENPr42YNc",
        "outputId": "b250eb35-795b-4ab2-c8b7-b92f2dad8987"
      },
      "source": [
        "#Comprobamos que se han movido correctamente:\n",
        "normal2 = prep_red + \"/normal\"\n",
        "pneumonia2 = prep_red + \"/pneumonia\"\n",
        "\n",
        "print(\"Cantidad de imágenes de personas sanas: \" + str(len(os.listdir(normal2))))\n",
        "print(\"Cantidad de imágenes de personas enfermas: \" + str(len(os.listdir(pneumonia2))))\n",
        "\n",
        "sum1 = len(os.listdir(normal2)) + len(os.listdir(pneumonia2))\n",
        "sum2 = len(os.listdir(directorio_train_og)) + len(os.listdir(directorio_test_og))\n",
        "print(sum1)\n",
        "print(sum2)"
      ],
      "execution_count": null,
      "outputs": [
        {
          "output_type": "stream",
          "text": [
            "Cantidad de imágenes de personas sanas: 1576\n",
            "Cantidad de imágenes de personas enfermas: 4334\n",
            "5910\n",
            "5933\n"
          ],
          "name": "stdout"
        }
      ]
    },
    {
      "cell_type": "code",
      "metadata": {
        "id": "I76wElCo1T4u"
      },
      "source": [
        "prep_red = '/content/gdrive/My Drive/Coronahack-Chest-XRay-Dataset/Coronahack-Chest-XRay-Dataset/prep'\n",
        "directorio_train = prep_red + \"/train\"\n",
        "directorio_test = prep_red + \"/test\"\n",
        "directorio_validation = prep_red + \"/validation\"\n",
        "\n",
        "normal_train = directorio_train + \"/normal\"\n",
        "normal_test = directorio_test + \"/normal\"\n",
        "normal_validation = directorio_validation + \"/normal\"\n",
        "\n",
        "pneumonia_train = directorio_train + \"/pneumonia\"\n",
        "pneumonia_test = directorio_test + \"/pneumonia\"\n",
        "pneumonia_validation = directorio_validation + \"/pneumonia\""
      ],
      "execution_count": 3,
      "outputs": []
    },
    {
      "cell_type": "code",
      "metadata": {
        "id": "y1U_VgfU1UIQ"
      },
      "source": [
        "os.mkdir(directorio_train)\n",
        "os.mkdir(directorio_test)\n",
        "os.mkdir(directorio_validation)\n"
      ],
      "execution_count": null,
      "outputs": []
    },
    {
      "cell_type": "code",
      "metadata": {
        "id": "GWxNzqYlXPot"
      },
      "source": [
        "os.mkdir(normal_train)\n",
        "os.mkdir(normal_test)\n",
        "os.mkdir(normal_validation)\n",
        "os.mkdir(pneumonia_train)\n",
        "os.mkdir(pneumonia_test)\n",
        "os.mkdir(pneumonia_validation)"
      ],
      "execution_count": null,
      "outputs": []
    },
    {
      "cell_type": "code",
      "metadata": {
        "id": "ap7fFNwfQF1Z"
      },
      "source": [
        "os.mkdir(normal_validation)\n",
        "os.mkdir(pneumonia_validation)"
      ],
      "execution_count": null,
      "outputs": []
    },
    {
      "cell_type": "code",
      "metadata": {
        "id": "zY_S4FfxBtgM"
      },
      "source": [
        "os.mkdir(directorio_validation)\n",
        "os.mkdir(pneumonia_validation)\n",
        "os.mkdir(normal_validation)"
      ],
      "execution_count": null,
      "outputs": []
    },
    {
      "cell_type": "code",
      "metadata": {
        "id": "lHnKBDlsKZPs"
      },
      "source": [
        "def divide_dataset(directorio, p, q):\n",
        "  #Salvamos la dirección de la carpeta de radiografías de personas sanas para su posterior acceso.\n",
        "  directorio_normal = directorio + \"/normal\"\n",
        "  #Accedemos al directorio donde se encuentran todas las imágenes de personas sanas que existen en nuestro dataset.\n",
        "  normales = os.listdir(directorio_normal)\n",
        "  #Estas 3 variables nos servirán para decidir si una imagen se copiará a la carpeta de entrenamiento, a la de validación o a la de pruebas.\n",
        "  #En \"i\" guardaremos el resultado de multiplicar el número total de imágenes de personas sanas del dataset por el porcentaje de muestras que queremos que\n",
        "  #se situen entre entrenamiento y validación. Lo convertiremos a entero ya que querremos obtener un número entero de imágenes.\n",
        "  i = int(len(normales)*p)\n",
        "  #En \"k\" realizaremos la multiplicación entre \"i\" y \"q\", siendo q el porcentaje de muestras de validación que salvaremos, contando con que el resto lo usaremos\n",
        "  #para entrenamiento. También lo convertiremos a entero por las mismas razones. \n",
        "  k = int(i*q)\n",
        "  #En \"e\" guardaremos el resto de imágenes normales guardaremos en entrenamiento, siendo estas parte del número de muestras que acoge \"i\" (número total de imágenes\n",
        "  #entre entrenamiento y validación). \n",
        "  \n",
        "  #Ejemplo: En caso de tener 10 muestras, si queremos guardar el 80% para entrenamiento y validación nos quedarían 8. Si de esas 8 quisiéramos un cuarto para validación\n",
        "  #tendríamos que multiplicar ese 8 por 0.25, de manera que nos quedarían 2 muestras para validación. Por ello, el número de muestras para entrenamiento\n",
        "  #debería ser el número total entre entrenamiento y validación menos el número de muestras para validación: 8-2 = 6 imágenes de entrenamiento. \n",
        "\n",
        "  e = i-k\n",
        "  #Inicializaremos los contadores que servirán para decidir en qué directorio copiaremos las imágenes para separarlas en entrenamiento, validación y pruebas.\n",
        "  x = 0\n",
        "  v = 0\n",
        "  for n in normales:\n",
        "    if x<=e:\n",
        "      #Si x es menor que el número de imágenes correspondientes a entrenamiento:\n",
        "\n",
        "      #Guardamos el nombre como una cadena. Recordemos que el módulo \"os\" y el módulo \"shutil\" trabajan con rutas.\n",
        "      n_string = str(n)\n",
        "      #Montamos las rutas de origen, la cual será la ruta del directorio mas una barra y el nombre de la imagen, y la ruta de destino, la cual\n",
        "      #indica dónde y qué vamos a copiar.\n",
        "      origen = directorio_normal + \"/\" + n_string\n",
        "      destino =  directorio + \"/train/normal/\" + n_string\n",
        "      shutil.copyfile(origen,destino)\n",
        "      x += 1\n",
        "    elif x>e and v<=k:\n",
        "      #Si x es mayor que el número de muestras de entrenamiento, pero es menor que el número de muestras de validación:\n",
        "\n",
        "      n_string = str(n)\n",
        "      origen = directorio_normal + \"/\" + n_string\n",
        "      destino =  directorio + \"/validation/normal/\" + n_string\n",
        "      shutil.copyfile(origen,destino)\n",
        "      v +=1\n",
        "    else:\n",
        "      #En cualquier otro caso la guardaremos en test.\n",
        "      n_string = str(n)\n",
        "      origen = directorio_normal + \"/\" + n_string\n",
        "      destino =  directorio + \"/test/normal/\" + n_string\n",
        "      shutil.copyfile(origen,destino)\n",
        "      \n",
        "  #Repetimos el mismo proceso anterior pero esta vez para las radiografías de pacientes enfermos.\n",
        "  \n",
        "  directorio_pneumonia = directorio + \"/pneumonia\"\n",
        "  enfermos = os.listdir(directorio_pneumonia)\n",
        "  j = int(len(enfermos)*p)\n",
        "  l = int(j*q)\n",
        "  w = j-l\n",
        "  z = 0\n",
        "  y = 0\n",
        "  \n",
        "  for n in enfermos:\n",
        "    if y<=w: \n",
        "      #Guardamos el nombre como una cadena. Recordemos que el módulo \"os\" y el módulo \"shutil\" trabajan con rutas.\n",
        "      n_string = str(n)\n",
        "      #Montamos las rutas de origen, la cual será la ruta del directorio mas una barra y el nombre de la imagen, y la ruta de destino, la cual\n",
        "      #indica dónde y qué vamos a copiar.\n",
        "      origen = directorio_pneumonia + \"/\" + n_string\n",
        "      destino =  directorio + \"/train/pneumonia/\" + n_string\n",
        "      shutil.copyfile(origen,destino)\n",
        "      y += 1\n",
        "    elif y>w and z<=l:\n",
        "      n_string = str(n)\n",
        "      #Montamos las rutas de origen, la cual será la ruta del directorio mas una barra y el nombre de la imagen, y la ruta de destino, la cual\n",
        "      #indica dónde y qué vamos a copiar.\n",
        "      origen = directorio_pneumonia + \"/\" + n_string\n",
        "      destino =  directorio + \"/validation/pneumonia/\" + n_string\n",
        "      shutil.copyfile(origen,destino)\n",
        "      z +=1\n",
        "    else:\n",
        "      #Guardamos el nombre como una cadena. Recordemos que el módulo \"os\" y el módulo \"shutil\" trabajan con rutas.\n",
        "      n_string = str(n)\n",
        "      #Montamos las rutas de origen, la cual será la ruta del directorio mas una barra y el nombre de la imagen, y la ruta de destino, la cual\n",
        "      #indica dónde y qué vamos a copiar.\n",
        "      origen = directorio_pneumonia + \"/\" + n_string\n",
        "      destino =  directorio + \"/test/pneumonia/\" + n_string\n",
        "      shutil.copyfile(origen,destino)"
      ],
      "execution_count": null,
      "outputs": []
    },
    {
      "cell_type": "code",
      "metadata": {
        "id": "u2gpCihzOcwD"
      },
      "source": [
        "divide_dataset(prep_red,0.8,0.2)"
      ],
      "execution_count": null,
      "outputs": []
    },
    {
      "cell_type": "code",
      "metadata": {
        "colab": {
          "base_uri": "https://localhost:8080/"
        },
        "id": "R3NVfxjscUvJ",
        "outputId": "6d910351-1be4-448c-b628-f85af978970b"
      },
      "source": [
        "n_normales_train = len(os.listdir(str(prep_red + \"/train/normal\")))\n",
        "n_enfermos_train = len(os.listdir(str(prep_red + \"/train/pneumonia\")))\n",
        "n_normales_test = len(os.listdir(str(prep_red + \"/test/normal\")))\n",
        "n_enfermos_test = len(os.listdir(str(prep_red + \"/test/pneumonia\")))\n",
        "n_normales_val = len(os.listdir(str(prep_red + \"/validation/normal\")))\n",
        "n_enfermos_val = len(os.listdir(str(prep_red + \"/validation/pneumonia\")))\n",
        "\n",
        "print(\"Cantidad de imágenes de imágenes de pulmones sanos en la carpeta de entrenamiento: \" + str(n_normales_train))\n",
        "print(\"Cantidad de imágenes de imágenes de pulmones enfermos en la carpeta de entrenamiento: \" + str(n_enfermos_train))\n",
        "print(\"Cantidad de imágenes de imágenes de pulmones sanos en la carpeta de validación: \" + str(n_normales_val))\n",
        "print(\"Cantidad de imágenes de imágenes de pulmones enfermos en la carpeta de validación: \" + str(n_enfermos_val))\n",
        "print(\"Cantidad de imágenes de imágenes de pulmones sanos en la carpeta de test: \" + str(n_normales_test))\n",
        "print(\"Cantidad de imágenes de imágenes de pulmones enfermos en la carpeta de test: \" + str(n_enfermos_test))\n",
        "\n",
        "print(\"Imagenes de pacientes: \" + str(n_normales_train + n_enfermos_train + n_normales_test + n_enfermos_test + n_normales_val + n_enfermos_val))"
      ],
      "execution_count": null,
      "outputs": [
        {
          "output_type": "stream",
          "text": [
            "Cantidad de imágenes de imágenes de pulmones sanos en la carpeta de entrenamiento: 1009\n",
            "Cantidad de imágenes de imágenes de pulmones enfermos en la carpeta de entrenamiento: 2775\n",
            "Cantidad de imágenes de imágenes de pulmones sanos en la carpeta de validación: 253\n",
            "Cantidad de imágenes de imágenes de pulmones enfermos en la carpeta de validación: 694\n",
            "Cantidad de imágenes de imágenes de pulmones sanos en la carpeta de test: 314\n",
            "Cantidad de imágenes de imágenes de pulmones enfermos en la carpeta de test: 865\n",
            "Imagenes de pacientes: 5910\n"
          ],
          "name": "stdout"
        }
      ]
    },
    {
      "cell_type": "code",
      "metadata": {
        "id": "7u9OxOYAQqne"
      },
      "source": [
        "from keras import layers\n",
        "from keras import models\n",
        "\n",
        "model = models.Sequential()\n",
        "\n",
        "model.add(layers.Conv2D(32, (3, 3), activation='relu', input_shape=(150, 150, 3)))\n",
        "model.add(layers.MaxPooling2D((2, 2)))\n",
        "model.add(layers.Conv2D(64, (3, 3), activation='relu'))\n",
        "model.add(layers.MaxPooling2D((2, 2)))\n",
        "model.add(layers.Conv2D(128, (3, 3), activation='relu'))\n",
        "model.add(layers.MaxPooling2D((2, 2)))\n",
        "model.add(layers.Conv2D(128, (3, 3), activation='relu'))\n",
        "model.add(layers.MaxPooling2D((2, 2)))\n",
        "\n",
        "model.add(layers.Flatten())\n",
        "model.add(layers.Dense(512, activation='relu'))\n",
        "model.add(layers.Dense(1, activation='sigmoid'))\n"
      ],
      "execution_count": 17,
      "outputs": []
    },
    {
      "cell_type": "code",
      "metadata": {
        "id": "NF_Rcj116mVV"
      },
      "source": [
        "from keras import optimizers\n",
        "\n",
        "model.compile(loss='binary_crossentropy',\n",
        "              optimizer=optimizers.RMSprop(lr=1e-4),\n",
        "              metrics=['acc'])"
      ],
      "execution_count": null,
      "outputs": []
    },
    {
      "cell_type": "code",
      "metadata": {
        "colab": {
          "base_uri": "https://localhost:8080/"
        },
        "id": "Q6g7it7l15yk",
        "outputId": "178fac13-a4da-4f6c-e737-765615a065bf"
      },
      "source": [
        "from keras.preprocessing.image import ImageDataGenerator\n",
        "\n",
        "datagen_entrenamiento = ImageDataGenerator(rescale=1./255)\n",
        "datagen_validacion = ImageDataGenerator(rescale=1./255)\n",
        "\n",
        "generador_entrenamiento = datagen_entrenamiento.flow_from_directory(\n",
        "    directorio_train,\n",
        "    target_size=(150,150),\n",
        "    batch_size=20,\n",
        "    class_mode='binary'\n",
        ")\n",
        "\n",
        "generador_validacion = datagen_validacion.flow_from_directory(\n",
        "    directorio_validation,\n",
        "    target_size=(150,150),\n",
        "    batch_size=20,\n",
        "    class_mode='binary'\n",
        ")"
      ],
      "execution_count": 4,
      "outputs": [
        {
          "output_type": "stream",
          "text": [
            "Found 3784 images belonging to 2 classes.\n",
            "Found 947 images belonging to 2 classes.\n"
          ],
          "name": "stdout"
        }
      ]
    },
    {
      "cell_type": "code",
      "metadata": {
        "colab": {
          "base_uri": "https://localhost:8080/"
        },
        "id": "Hy1bPJ7Hbwr2",
        "outputId": "8579aec6-4885-442a-b2fe-9512ce389c49"
      },
      "source": [
        "historial = model.fit(\n",
        "    generador_entrenamiento,\n",
        "    steps_per_epoch=100,\n",
        "    epochs=20,\n",
        "    validation_data=generador_validacion,\n",
        "    validation_steps=50\n",
        "        )"
      ],
      "execution_count": null,
      "outputs": [
        {
          "output_type": "stream",
          "text": [
            "Epoch 1/20\n",
            "100/100 [==============================] - ETA: 0s - loss: 0.5726 - acc: 0.7279WARNING:tensorflow:Your input ran out of data; interrupting training. Make sure that your dataset or generator can generate at least `steps_per_epoch * epochs` batches (in this case, 50 batches). You may need to use the repeat() function when building your dataset.\n",
            "100/100 [==============================] - 1453s 15s/step - loss: 0.5720 - acc: 0.7283 - val_loss: 0.3348 - val_acc: 0.8574\n",
            "Epoch 2/20\n",
            "100/100 [==============================] - 452s 5s/step - loss: 0.3495 - acc: 0.8565\n",
            "Epoch 3/20\n",
            "100/100 [==============================] - 249s 2s/step - loss: 0.2464 - acc: 0.9101\n",
            "Epoch 4/20\n",
            "100/100 [==============================] - 148s 1s/step - loss: 0.1945 - acc: 0.9200\n",
            "Epoch 5/20\n",
            "100/100 [==============================] - 107s 1s/step - loss: 0.1995 - acc: 0.9154\n",
            "Epoch 6/20\n",
            "100/100 [==============================] - 103s 1s/step - loss: 0.1682 - acc: 0.9322\n",
            "Epoch 7/20\n",
            "100/100 [==============================] - 93s 929ms/step - loss: 0.1817 - acc: 0.9238\n",
            "Epoch 8/20\n",
            "100/100 [==============================] - 92s 916ms/step - loss: 0.1566 - acc: 0.9334\n",
            "Epoch 9/20\n",
            "100/100 [==============================] - 93s 922ms/step - loss: 0.1616 - acc: 0.9349\n",
            "Epoch 10/20\n",
            "100/100 [==============================] - 91s 907ms/step - loss: 0.1536 - acc: 0.9337\n",
            "Epoch 11/20\n",
            "100/100 [==============================] - 92s 922ms/step - loss: 0.1297 - acc: 0.9514\n",
            "Epoch 12/20\n",
            "100/100 [==============================] - 91s 910ms/step - loss: 0.1487 - acc: 0.9417\n",
            "Epoch 13/20\n",
            "100/100 [==============================] - 92s 916ms/step - loss: 0.1506 - acc: 0.9322\n",
            "Epoch 14/20\n",
            "100/100 [==============================] - 90s 902ms/step - loss: 0.1393 - acc: 0.9440\n",
            "Epoch 15/20\n",
            "100/100 [==============================] - 91s 904ms/step - loss: 0.1362 - acc: 0.9450\n",
            "Epoch 16/20\n",
            "100/100 [==============================] - 91s 905ms/step - loss: 0.1225 - acc: 0.9534\n",
            "Epoch 17/20\n",
            "100/100 [==============================] - 91s 908ms/step - loss: 0.1038 - acc: 0.9581\n",
            "Epoch 18/20\n",
            "100/100 [==============================] - 91s 905ms/step - loss: 0.0848 - acc: 0.9709\n",
            "Epoch 19/20\n",
            "100/100 [==============================] - 92s 918ms/step - loss: 0.0979 - acc: 0.9685\n",
            "Epoch 20/20\n",
            "100/100 [==============================] - 91s 910ms/step - loss: 0.0988 - acc: 0.9640\n"
          ],
          "name": "stdout"
        }
      ]
    },
    {
      "cell_type": "code",
      "metadata": {
        "id": "if2rTEbEcfvx"
      },
      "source": [
        "#Guardamos el modelo en el drive para no tener que entrenarlo cada vez que inicie el colab.\n",
        "model.save('/content/gdrive/My Drive/primer_red.h5')"
      ],
      "execution_count": null,
      "outputs": []
    },
    {
      "cell_type": "code",
      "metadata": {
        "colab": {
          "base_uri": "https://localhost:8080/",
          "height": 334
        },
        "id": "Fksv2TzTP6qK",
        "outputId": "91a3b221-14dc-4550-d7bb-b2fcf402b5a2"
      },
      "source": [
        "#Mostraremos unas gráficas que muestren cómo han evolucionado tanto el valor de pérdida como la precisión:\n",
        "from matplotlib import pyplot\n",
        "\n",
        "prec = historial.history['acc']\n",
        "validacion_prec = historial.history['val_acc']\n",
        "perdida = historial.history['loss']\n",
        "validacion_perdida = historial.history['val_loss']\n",
        "print(prec)\n",
        "n_epochs = range(1, len(prec) + 1)\n",
        "\n",
        "pyplot.plot(n_epochs, prec, 'b', label='Precisión en entrenamiento')\n",
        "pyplot.plot(n_epochs, validacion_prec, 'bo', label='Precisión en validación')\n",
        "pyplot.title('Precisión en entrenamiento y validación')\n",
        "pyplot.legend()\n",
        "pyplot.show()"
      ],
      "execution_count": null,
      "outputs": [
        {
          "output_type": "stream",
          "text": [
            "No handles with labels found to put in legend.\n"
          ],
          "name": "stderr"
        },
        {
          "output_type": "stream",
          "text": [
            "[0.7696572542190552, 0.878000020980835, 0.9082661271095276, 0.9213709831237793, 0.9279233813285828, 0.9284273982048035, 0.9294354915618896, 0.9440000057220459, 0.9409999847412109, 0.9394999742507935]\n"
          ],
          "name": "stdout"
        },
        {
          "output_type": "display_data",
          "data": {
            "image/png": "[encoded data removed]",
            "text/plain": [
              "<Figure size 432x288 with 1 Axes>"
            ]
          },
          "metadata": {
            "tags": []
          }
        }
      ]
    },
    {
      "cell_type": "code",
      "metadata": {
        "colab": {
          "base_uri": "https://localhost:8080/",
          "height": 281
        },
        "id": "M6nFshiQZkcE",
        "outputId": "d530de2f-1768-40fe-c27a-535bc9737565"
      },
      "source": [
        "pyplot.plot(n_epochs, perdida, 'b', label='Pérdida en entrenamiento')\n",
        "pyplot.plot(n_epochs, val_loss, 'bo', label='Pérdida en validación')\n",
        "pyplot.title('Valores de pérdida en entrenamiento y validación')\n",
        "pyplot.legend()\n",
        "pyplot.show()"
      ],
      "execution_count": null,
      "outputs": [
        {
          "output_type": "display_data",
          "data": {
            "image/png": "[encoded data removed]",
            "text/plain": [
              "<Figure size 432x288 with 1 Axes>"
            ]
          },
          "metadata": {
            "tags": []
          }
        }
      ]
    },
    {
      "cell_type": "code",
      "metadata": {
        "id": "9JC81XFQf_fl"
      },
      "source": [
        "#Lo cargamos y comprobamos que se ha cargado correctamente.\n",
        "from keras.models import load_model\n",
        "modelo2 = load_model('/content/gdrive/My Drive/primer_red.h5')"
      ],
      "execution_count": null,
      "outputs": []
    },
    {
      "cell_type": "code",
      "metadata": {
        "colab": {
          "base_uri": "https://localhost:8080/"
        },
        "id": "B7oVkYmVh5nB",
        "outputId": "358fdaba-d605-4fa4-8db9-f3f3a505d42e"
      },
      "source": [
        "modelo2.summary()"
      ],
      "execution_count": null,
      "outputs": [
        {
          "output_type": "stream",
          "text": [
            "Model: \"sequential_2\"\n",
            "_________________________________________________________________\n",
            "Layer (type)                 Output Shape              Param #   \n",
            "=================================================================\n",
            "conv2d_8 (Conv2D)            (None, 148, 148, 32)      896       \n",
            "_________________________________________________________________\n",
            "max_pooling2d_8 (MaxPooling2 (None, 74, 74, 32)        0         \n",
            "_________________________________________________________________\n",
            "conv2d_9 (Conv2D)            (None, 72, 72, 64)        18496     \n",
            "_________________________________________________________________\n",
            "max_pooling2d_9 (MaxPooling2 (None, 36, 36, 64)        0         \n",
            "_________________________________________________________________\n",
            "conv2d_10 (Conv2D)           (None, 34, 34, 128)       73856     \n",
            "_________________________________________________________________\n",
            "max_pooling2d_10 (MaxPooling (None, 17, 17, 128)       0         \n",
            "_________________________________________________________________\n",
            "conv2d_11 (Conv2D)           (None, 15, 15, 128)       147584    \n",
            "_________________________________________________________________\n",
            "max_pooling2d_11 (MaxPooling (None, 7, 7, 128)         0         \n",
            "_________________________________________________________________\n",
            "flatten_2 (Flatten)          (None, 6272)              0         \n",
            "_________________________________________________________________\n",
            "dense_4 (Dense)              (None, 512)               3211776   \n",
            "_________________________________________________________________\n",
            "dense_5 (Dense)              (None, 1)                 513       \n",
            "=================================================================\n",
            "Total params: 3,453,121\n",
            "Trainable params: 3,453,121\n",
            "Non-trainable params: 0\n",
            "_________________________________________________________________\n"
          ],
          "name": "stdout"
        }
      ]
    },
    {
      "cell_type": "code",
      "metadata": {
        "colab": {
          "base_uri": "https://localhost:8080/"
        },
        "id": "EeXVMpvOh6-E",
        "outputId": "00b5dbf9-2b69-4b5b-80ab-ef368d22fc0c"
      },
      "source": [
        "datagen_test = ImageDataGenerator(rescale=1./255)\n",
        "\n",
        "generador_test = datagen_test.flow_from_directory(\n",
        "directorio_test,\n",
        "target_size=(150, 150),\n",
        "batch_size=20,\n",
        "class_mode='binary')\n"
      ],
      "execution_count": 20,
      "outputs": [
        {
          "output_type": "stream",
          "text": [
            "Found 1179 images belonging to 2 classes.\n"
          ],
          "name": "stdout"
        }
      ]
    },
    {
      "cell_type": "code",
      "metadata": {
        "colab": {
          "base_uri": "https://localhost:8080/"
        },
        "id": "M7LZ9ZN9kRff",
        "outputId": "7c9d17ff-3d76-49aa-da39-16a2e54f5f83"
      },
      "source": [
        "historial_test_prec = []\n",
        "historial_test_loss = []\n",
        "pasos = 20\n",
        "for i in range(pasos):\n",
        "  ev = modelo2.evaluate(generador_test, steps=50)\n",
        "  historial_test_loss.append(ev[0])\n",
        "  historial_test_prec.append(ev[1])"
      ],
      "execution_count": null,
      "outputs": [
        {
          "output_type": "stream",
          "text": [
            "50/50 [==============================] - 469s 10s/step - loss: 0.1132 - acc: 0.9590\n",
            "50/50 [==============================] - 78s 2s/step - loss: 0.1106 - acc: 0.9620\n",
            "50/50 [==============================] - 30s 595ms/step - loss: 0.1078 - acc: 0.9610\n",
            "50/50 [==============================] - 22s 434ms/step - loss: 0.1042 - acc: 0.9620\n",
            "50/50 [==============================] - 21s 418ms/step - loss: 0.1151 - acc: 0.9590\n",
            "50/50 [==============================] - 21s 419ms/step - loss: 0.1067 - acc: 0.9610\n",
            "50/50 [==============================] - 21s 421ms/step - loss: 0.1083 - acc: 0.9600\n",
            "50/50 [==============================] - 21s 419ms/step - loss: 0.1094 - acc: 0.9630\n",
            "50/50 [==============================] - 21s 418ms/step - loss: 0.1039 - acc: 0.9620\n",
            "50/50 [==============================] - 21s 416ms/step - loss: 0.1138 - acc: 0.9600\n",
            "50/50 [==============================] - 21s 418ms/step - loss: 0.1064 - acc: 0.9620\n",
            "50/50 [==============================] - 21s 425ms/step - loss: 0.1058 - acc: 0.9640\n",
            "50/50 [==============================] - 21s 426ms/step - loss: 0.1085 - acc: 0.9600\n",
            "50/50 [==============================] - 21s 427ms/step - loss: 0.0970 - acc: 0.9670\n",
            "50/50 [==============================] - 21s 423ms/step - loss: 0.1072 - acc: 0.9640\n",
            "50/50 [==============================] - 21s 424ms/step - loss: 0.1094 - acc: 0.9620\n",
            "50/50 [==============================] - 21s 420ms/step - loss: 0.1133 - acc: 0.9620\n",
            "50/50 [==============================] - 21s 417ms/step - loss: 0.1062 - acc: 0.9620\n",
            "50/50 [==============================] - 21s 424ms/step - loss: 0.1114 - acc: 0.9600\n",
            "50/50 [==============================] - 21s 418ms/step - loss: 0.1146 - acc: 0.9600\n"
          ],
          "name": "stdout"
        }
      ]
    },
    {
      "cell_type": "code",
      "metadata": {
        "colab": {
          "base_uri": "https://localhost:8080/"
        },
        "id": "-YW3tQn6o8Xc",
        "outputId": "76c14cf9-dcc9-4e8e-f16f-1c448dd137d4"
      },
      "source": [
        "from matplotlib import pyplot\n",
        "#Copiamos el \n",
        "prec = historial_test_prec\n",
        "loss = historial_test_loss\n",
        "\n",
        "prec.insert(0,0.5)\n",
        "prec.append(1)\n",
        "\n",
        "loss.insert(0,0)\n",
        "loss.append(0.5)\n",
        "\n",
        "n_pasos = range(1, len(prec) + 1)\n",
        "\n",
        "pyplot.plot(n_pasos, prec, 'b', label='Precisión')\n",
        "pyplot.plot(n_pasos, loss, 'r', label='Pérdida')\n",
        "pyplot.title('Valores de precisión y pérdida durante el test')\n",
        "pyplot.legend()\n",
        "pyplot.show()"
      ],
      "execution_count": null,
      "outputs": [
        {
          "output_type": "display_data",
          "data": {
            "image/png": "[encoded data removed]",
            "text/plain": [
              "<Figure size 432x288 with 1 Axes>"
            ]
          },
          "metadata": {
            "tags": [],
            "needs_background": "light"
          }
        }
      ]
    },
    {
      "cell_type": "code",
      "metadata": {
        "id": "EvMctzRckzEH"
      },
      "source": [
        "#Ahora probaremos a modificar datos. Como no disponemos de más imágenes tendremos que realizar pequeñas modificaciones sobre las que ya poseemos:\n",
        "generador_datos = ImageDataGenerator(\n",
        "    #Rango de grado de rotación\n",
        "    rotation_range=40,\n",
        "    #Rango de anchura que se modificará\n",
        "    width_shift_range=0.15,\n",
        "    #Rango de altura que se modificará\n",
        "    height_shift_range=0.15,\n",
        "    #Rango de zoom\n",
        "    zoom_range=0.15,\n",
        "    #Si a algunas imágenes se les dará la vuelta horizontalmente\n",
        "    horizontal_flip=True,\n",
        "    #Qué hacer con los nuevos píxeles. En nuestro caso que obtengan el valor del píxel original más cercano\n",
        "    fill_mode='nearest'\n",
        ")"
      ],
      "execution_count": 6,
      "outputs": []
    },
    {
      "cell_type": "code",
      "metadata": {
        "colab": {
          "base_uri": "https://localhost:8080/",
          "height": 269
        },
        "id": "7NolmdnMnuPA",
        "outputId": "b21424a4-6e16-4c35-dbd0-4b6c5e15e34f"
      },
      "source": [
        "from keras.preprocessing.image import load_img\n",
        "from keras.preprocessing.image import img_to_array\n",
        "from matplotlib import pyplot\n",
        "from numpy import expand_dims\n",
        "\n",
        "#Cargamos la imagen de ejemplo\n",
        "imagen_prueba = load_img(directorio_train + '/normal/NORMAL2-IM-0401-0001.jpeg')\n",
        "#La transformamos a array de numpy para poder tratarla\n",
        "array = img_to_array(imagen_prueba)\n",
        "#Le añadimos un eje más, ya que\n",
        "muestra = expand_dims(array,0)\n",
        "iterador = generador_datos.flow(muestra,batch_size=1)\n",
        "\n",
        "for i in range(9):\n",
        "  pyplot.subplot(330 + 1 + i)\n",
        "\t#Generamos un batch de imágenes\n",
        "  batch = iterador.next()\n",
        "\t#Cambiamos los valores del array a enteros sin signo para poder mostrarlos con pyplot \n",
        "  image = batch[0].astype('uint8')\n",
        "\t#Mostramos la imagen\n",
        "  pyplot.imshow(image)\n",
        "#Mostramos la figura entera\n",
        "pyplot.show()\n"
      ],
      "execution_count": 6,
      "outputs": [
        {
          "output_type": "display_data",
          "data": {
            "image/png": "[encoded data removed]",
            "text/plain": [
              "<Figure size 432x288 with 9 Axes>"
            ]
          },
          "metadata": {
            "tags": [],
            "needs_background": "light"
          }
        }
      ]
    },
    {
      "cell_type": "code",
      "metadata": {
        "colab": {
          "base_uri": "https://localhost:8080/"
        },
        "id": "un49pBGsJ_UI",
        "outputId": "f430705a-2c5a-4908-c011-c1bfa7a2fbe5"
      },
      "source": [
        "#Ahora entrenaremos la red con este nuevo generador. Solo lo aplicaremos para las imágenes de entrenamiento, y no con las de validación.\n",
        "\n",
        "datagen_entrenamiento = generador_datos\n",
        "datagen_validacion = ImageDataGenerator(rescale=1./255)\n",
        "\n",
        "generador_entrenamiento = datagen_entrenamiento.flow_from_directory(\n",
        "    directorio_train,\n",
        "    target_size=(150,150),\n",
        "    batch_size=20,\n",
        "    class_mode='binary'\n",
        ")\n",
        "\n",
        "generador_validacion = datagen_validacion.flow_from_directory(\n",
        "    directorio_validation,\n",
        "    target_size=(150,150),\n",
        "    batch_size=20,\n",
        "    class_mode='binary'\n",
        ")"
      ],
      "execution_count": 7,
      "outputs": [
        {
          "output_type": "stream",
          "text": [
            "Found 3784 images belonging to 2 classes.\n",
            "Found 947 images belonging to 2 classes.\n"
          ],
          "name": "stdout"
        }
      ]
    },
    {
      "cell_type": "code",
      "metadata": {
        "id": "BIqpYtIJ2BRN"
      },
      "source": [
        "#Reiniciamos el modelo para poder comprobar su funcionamiento al añadir datos, y de paso le añadimos la capa de \"dropout\".\n",
        "\n",
        "from keras import layers\n",
        "from keras import models\n",
        "\n",
        "modelo2 = models.Sequential()\n",
        "\n",
        "modelo2.add(layers.Conv2D(32, (3, 3), activation='relu', input_shape=(150, 150, 3)))\n",
        "modelo2.add(layers.MaxPooling2D((2, 2)))\n",
        "modelo2.add(layers.Conv2D(64, (3, 3), activation='relu'))\n",
        "modelo2.add(layers.MaxPooling2D((2, 2)))\n",
        "modelo2.add(layers.Conv2D(128, (3, 3), activation='relu'))\n",
        "modelo2.add(layers.MaxPooling2D((2, 2)))\n",
        "modelo2.add(layers.Conv2D(128, (3, 3), activation='relu'))\n",
        "modelo2.add(layers.MaxPooling2D((2, 2)))\n",
        "\n",
        "modelo2.add(layers.Flatten())\n",
        "modelo2.add(layers.Dropout(0.5))\n",
        "modelo2.add(layers.Dense(512, activation='relu'))\n",
        "modelo2.add(layers.Dense(1, activation='sigmoid'))"
      ],
      "execution_count": 12,
      "outputs": []
    },
    {
      "cell_type": "code",
      "metadata": {
        "id": "rrLazDUZ2r6v"
      },
      "source": [
        "from keras import optimizers\n",
        "\n",
        "modelo2.compile(loss='binary_crossentropy',\n",
        "              optimizer=optimizers.RMSprop(lr=1e-4),\n",
        "              metrics=['acc'])"
      ],
      "execution_count": 13,
      "outputs": []
    },
    {
      "cell_type": "code",
      "metadata": {
        "colab": {
          "base_uri": "https://localhost:8080/"
        },
        "id": "AyE5a4E12Ymu",
        "outputId": "fc31e2f8-07ae-4b75-8ce7-1ed09339fbec"
      },
      "source": [
        "historial2 = modelo2.fit(\n",
        "    generador_entrenamiento,\n",
        "    steps_per_epoch=100,\n",
        "    epochs=20,\n",
        "    validation_data=generador_validacion,\n",
        "    validation_steps=50\n",
        ")"
      ],
      "execution_count": 14,
      "outputs": [
        {
          "output_type": "stream",
          "text": [
            "Epoch 1/20\n",
            "100/100 [==============================] - ETA: 0s - loss: 3.4557 - acc: 0.6629WARNING:tensorflow:Your input ran out of data; interrupting training. Make sure that your dataset or generator can generate at least `steps_per_epoch * epochs` batches (in this case, 50 batches). You may need to use the repeat() function when building your dataset.\n",
            "100/100 [==============================] - 140s 1s/step - loss: 3.4372 - acc: 0.6630 - val_loss: 0.6853 - val_acc: 0.7328\n",
            "Epoch 2/20\n",
            "100/100 [==============================] - 119s 1s/step - loss: 0.6598 - acc: 0.7021\n",
            "Epoch 3/20\n",
            "100/100 [==============================] - 121s 1s/step - loss: 0.5577 - acc: 0.7759\n",
            "Epoch 4/20\n",
            "100/100 [==============================] - 116s 1s/step - loss: 0.5155 - acc: 0.7579\n",
            "Epoch 5/20\n",
            "100/100 [==============================] - 116s 1s/step - loss: 0.4284 - acc: 0.8119\n",
            "Epoch 6/20\n",
            "100/100 [==============================] - 115s 1s/step - loss: 0.4398 - acc: 0.8120\n",
            "Epoch 7/20\n",
            "100/100 [==============================] - 116s 1s/step - loss: 0.3991 - acc: 0.8258\n",
            "Epoch 8/20\n",
            "100/100 [==============================] - 116s 1s/step - loss: 0.4274 - acc: 0.8075\n",
            "Epoch 9/20\n",
            "100/100 [==============================] - 116s 1s/step - loss: 0.4103 - acc: 0.8295\n",
            "Epoch 10/20\n",
            "100/100 [==============================] - 115s 1s/step - loss: 0.3890 - acc: 0.8313\n",
            "Epoch 11/20\n",
            "100/100 [==============================] - 116s 1s/step - loss: 0.3665 - acc: 0.8347\n",
            "Epoch 12/20\n",
            "100/100 [==============================] - 115s 1s/step - loss: 0.4031 - acc: 0.8309\n",
            "Epoch 13/20\n",
            "100/100 [==============================] - 116s 1s/step - loss: 0.3806 - acc: 0.8437\n",
            "Epoch 14/20\n",
            "100/100 [==============================] - 115s 1s/step - loss: 0.3600 - acc: 0.8503\n",
            "Epoch 15/20\n",
            "100/100 [==============================] - 115s 1s/step - loss: 0.3282 - acc: 0.8702\n",
            "Epoch 16/20\n",
            "100/100 [==============================] - 115s 1s/step - loss: 0.3186 - acc: 0.8691\n",
            "Epoch 17/20\n",
            "100/100 [==============================] - 116s 1s/step - loss: 0.3644 - acc: 0.8438\n",
            "Epoch 18/20\n",
            "100/100 [==============================] - 116s 1s/step - loss: 0.3430 - acc: 0.8589\n",
            "Epoch 19/20\n",
            "100/100 [==============================] - 116s 1s/step - loss: 0.3439 - acc: 0.8581\n",
            "Epoch 20/20\n",
            "100/100 [==============================] - 116s 1s/step - loss: 0.2959 - acc: 0.8773\n"
          ],
          "name": "stdout"
        }
      ]
    },
    {
      "cell_type": "code",
      "metadata": {
        "colab": {
          "base_uri": "https://localhost:8080/",
          "height": 298
        },
        "id": "yvEub3Tt0X30",
        "outputId": "69770395-ca45-40cf-c36a-f6d6fe46548d"
      },
      "source": [
        "from matplotlib import pyplot\n",
        "prec2 = historial2.history['acc']\n",
        "#validacion_prec2 = historial2.history['val_acc']\n",
        "perdida2 = historial2.history['loss']\n",
        "#validacion_perdida2 = historial2.history['val_loss']\n",
        "n_epochs2 = range(1, len(prec2) + 1)\n",
        "\n",
        "pyplot.plot(n_epochs2, prec2, 'b')\n",
        "#pyplot.plot(n_epochs2, validacion_prec2, 'b', label='Precisión en validación')\n",
        "pyplot.title('Precisión en entrenamiento')\n",
        "pyplot.legend()\n",
        "pyplot.show()"
      ],
      "execution_count": 16,
      "outputs": [
        {
          "output_type": "stream",
          "text": [
            "No handles with labels found to put in legend.\n"
          ],
          "name": "stderr"
        },
        {
          "output_type": "display_data",
          "data": {
            "image/png": "[encoded data removed]",
            "text/plain": [
              "<Figure size 432x288 with 1 Axes>"
            ]
          },
          "metadata": {
            "tags": [],
            "needs_background": "light"
          }
        }
      ]
    },
    {
      "cell_type": "code",
      "metadata": {
        "colab": {
          "base_uri": "https://localhost:8080/",
          "height": 298
        },
        "id": "xIz02dJr0cBp",
        "outputId": "309678de-66b2-4f5c-928b-4b0325cf645e"
      },
      "source": [
        "pyplot.plot(n_epochs2, perdida2, 'b')\n",
        "#pyplot.plot(n_epochs2, val_loss2, 'b', label='Pérdida en validación')\n",
        "pyplot.title('Valor de pérdida en entrenamiento')\n",
        "pyplot.legend()\n",
        "pyplot.show()"
      ],
      "execution_count": 17,
      "outputs": [
        {
          "output_type": "stream",
          "text": [
            "No handles with labels found to put in legend.\n"
          ],
          "name": "stderr"
        },
        {
          "output_type": "display_data",
          "data": {
            "image/png": "[encoded data removed]",
            "text/plain": [
              "<Figure size 432x288 with 1 Axes>"
            ]
          },
          "metadata": {
            "tags": [],
            "needs_background": "light"
          }
        }
      ]
    },
    {
      "cell_type": "code",
      "metadata": {
        "id": "yq6_myjn2rZG"
      },
      "source": [
        "#Guardamos el nuevo modelo en el drive.\n",
        "modelo2.save('/content/gdrive/My Drive/segunda_red.h5')"
      ],
      "execution_count": 18,
      "outputs": []
    },
    {
      "cell_type": "code",
      "metadata": {
        "id": "B-poMb2Mi6SN"
      },
      "source": [
        "from keras.models import load_model\n",
        "modelo2 = load_model('/content/gdrive/My Drive/segunda_red.h5')"
      ],
      "execution_count": 10,
      "outputs": []
    },
    {
      "cell_type": "code",
      "metadata": {
        "colab": {
          "base_uri": "https://localhost:8080/"
        },
        "id": "PnFoTeU-4r3R",
        "outputId": "236fa32c-a506-4879-c63c-d808229ffb6f"
      },
      "source": [
        "historial2_test_prec = []\n",
        "historial2_test_loss = []\n",
        "pasos = 20\n",
        "for i in range(pasos):\n",
        "  ev = modelo2.evaluate(generador_test, steps=50)\n",
        "  historial2_test_loss.append(ev[0])\n",
        "  historial2_test_prec.append(ev[1])"
      ],
      "execution_count": 24,
      "outputs": [
        {
          "output_type": "stream",
          "text": [
            "50/50 [==============================] - 48s 976ms/step - loss: 0.6295 - acc: 0.7420\n",
            "50/50 [==============================] - 26s 515ms/step - loss: 0.6282 - acc: 0.7470\n",
            "50/50 [==============================] - 25s 489ms/step - loss: 0.6309 - acc: 0.7360\n",
            "50/50 [==============================] - 24s 480ms/step - loss: 0.6313 - acc: 0.7350\n",
            "50/50 [==============================] - 25s 488ms/step - loss: 0.6321 - acc: 0.7320\n",
            "50/50 [==============================] - 24s 476ms/step - loss: 0.6317 - acc: 0.7330\n",
            "50/50 [==============================] - 24s 479ms/step - loss: 0.6331 - acc: 0.7280\n",
            "50/50 [==============================] - 24s 481ms/step - loss: 0.6312 - acc: 0.7350\n",
            "50/50 [==============================] - 24s 481ms/step - loss: 0.6317 - acc: 0.7340\n",
            "50/50 [==============================] - 24s 481ms/step - loss: 0.6326 - acc: 0.7300\n",
            "50/50 [==============================] - 24s 474ms/step - loss: 0.6326 - acc: 0.7300\n",
            "50/50 [==============================] - 24s 481ms/step - loss: 0.6339 - acc: 0.7250\n",
            "50/50 [==============================] - 24s 485ms/step - loss: 0.6321 - acc: 0.7320\n",
            "50/50 [==============================] - 24s 478ms/step - loss: 0.6313 - acc: 0.7350\n",
            "50/50 [==============================] - 24s 478ms/step - loss: 0.6305 - acc: 0.7390\n",
            "50/50 [==============================] - 24s 480ms/step - loss: 0.6300 - acc: 0.7400\n",
            "50/50 [==============================] - 24s 481ms/step - loss: 0.6297 - acc: 0.7400\n",
            "50/50 [==============================] - 24s 481ms/step - loss: 0.6320 - acc: 0.7320\n",
            "50/50 [==============================] - 24s 481ms/step - loss: 0.6325 - acc: 0.7300\n",
            "50/50 [==============================] - 24s 483ms/step - loss: 0.6344 - acc: 0.7240\n"
          ],
          "name": "stdout"
        }
      ]
    },
    {
      "cell_type": "code",
      "metadata": {
        "colab": {
          "base_uri": "https://localhost:8080/",
          "height": 281
        },
        "id": "M_GsltYfjNgF",
        "outputId": "eb8bc231-5c91-47a9-e6c3-4b32ecd37eba"
      },
      "source": [
        "from matplotlib import pyplot\n",
        "#Copiamos el \n",
        "prec = historial2_test_prec\n",
        "loss = historial2_test_loss\n",
        "\n",
        "prec.insert(0,0.5)\n",
        "prec.append(1)\n",
        "\n",
        "loss.insert(0,0)\n",
        "loss.append(0.5)\n",
        "\n",
        "n_pasos = range(1, len(prec) + 1)\n",
        "\n",
        "pyplot.plot(n_pasos, prec, 'b', label='Precisión')\n",
        "pyplot.plot(n_pasos, loss, 'r', label='Pérdida')\n",
        "pyplot.title('Valores de precisión y pérdida durante el test')\n",
        "pyplot.legend()\n",
        "pyplot.show()"
      ],
      "execution_count": 21,
      "outputs": [
        {
          "output_type": "display_data",
          "data": {
            "image/png": "[encoded data removed]",
            "text/plain": [
              "<Figure size 432x288 with 1 Axes>"
            ]
          },
          "metadata": {
            "tags": [],
            "needs_background": "light"
          }
        }
      ]
    },
    {
      "cell_type": "code",
      "metadata": {
        "id": "loFCc6dkGBB0"
      },
      "source": [
        ""
      ],
      "execution_count": null,
      "outputs": []
    }
  ]
}